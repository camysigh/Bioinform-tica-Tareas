{
 "cells": [
  {
   "cell_type": "markdown",
   "id": "364a93b2",
   "metadata": {},
   "source": [
    "<img src=\"Logo-ikiam-.png\" width=300 height=240 />\n",
    "\n",
    "<h1><center>TAREA 2 - Parcial 2</center></h1>\n",
    "\n",
    "<h2><center>GBI6-2021II: BIOINFORMÁTICA</center></h2>\n",
    "\n",
    "**<h3><center>Freire Torres, Camila Micaela</center></h3>**\n",
    "\n",
    "**<h4><center>Fecha de entrega: 16-02-2022</center></h4>**"
   ]
  },
  {
   "cell_type": "markdown",
   "id": "7eef1b79",
   "metadata": {},
   "source": [
    "## <font color='brown'>Ejercicio 1</font>\n",
    "\n",
    "Basado en las sesiones de **Visualización de datos** y **Expresiones resulares**. Realice una adaptación de la solución del MAP OF SCIENCE. Se requiere dos adaptaciones para resolver esta actividad:\n",
    "\n",
    "1. Buscar bibliografía de un tema de interés propio en la Página Web de PubMed,\n",
    "2. Realizar el minado de autores por país (en el ejemplo se encuentra realziado por las ciudades de USA). \n",
    "3. Para asignar las ubicación geográfica de los centroides de cada país (latitud y longitud), utilice la tabla  **Ubicación Geográfica de Países - Google Developer**. Así como en la solución de referencia se señalan varias ciudades seleccionadas de USA. \n",
    "4. En su resolución señale/resalte a los siguientes países: USA, UK, Brazil, China, Australia, Norway.  \n",
    "\n",
    "*Cargue su cuaderno de Jupyter en GitHub, asegurandose de lo siguiente:*\n",
    "\n",
    "- En el documento se puede ver con claridad el Mapa de Ciencia de su tema de interés.\n",
    "- La figura tiene etiquetas adecuadas en los ejes de la visualización. \n",
    "- Se tiene al menos tres controles de la versión (3 commit con mensajes adecuados sobre la versión)"
   ]
  },
  {
   "cell_type": "code",
   "execution_count": null,
   "id": "8e90d4d2",
   "metadata": {},
   "outputs": [],
   "source": []
  }
 ],
 "metadata": {
  "kernelspec": {
   "display_name": "Python 3 (ipykernel)",
   "language": "python",
   "name": "python3"
  },
  "language_info": {
   "codemirror_mode": {
    "name": "ipython",
    "version": 3
   },
   "file_extension": ".py",
   "mimetype": "text/x-python",
   "name": "python",
   "nbconvert_exporter": "python",
   "pygments_lexer": "ipython3",
   "version": "3.9.7"
  }
 },
 "nbformat": 4,
 "nbformat_minor": 5
}
