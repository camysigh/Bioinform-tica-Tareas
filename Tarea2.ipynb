{
 "cells": [
  {
   "cell_type": "markdown",
   "id": "364a93b2",
   "metadata": {},
   "source": [
    "<img src=\"Logo-ikiam-.png\" width=300 height=240 />\n",
    "\n",
    "<h1><center>TAREA 2 - Parcial 2</center></h1>\n",
    "\n",
    "<h2><center>GBI6-2021II: BIOINFORMÁTICA</center></h2>\n",
    "\n",
    "**<h3><center>Freire Torres, Camila Micaela</center></h3>**\n",
    "\n",
    "**<h4><center>Fecha de entrega: 16-02-2022</center></h4>**"
   ]
  },
  {
   "cell_type": "markdown",
   "id": "7eef1b79",
   "metadata": {},
   "source": [
    "## <font color='brown'>Ejercicio 1</font>\n",
    "\n",
    "Basado en las sesiones de **Visualización de datos** y **Expresiones resulares**. Realice una adaptación de la solución del MAP OF SCIENCE. Se requiere dos adaptaciones para resolver esta actividad:\n",
    "\n",
    "1. Buscar bibliografía de un tema de interés propio en la Página Web de PubMed,\n",
    "2. Realizar el minado de autores por país (en el ejemplo se encuentra realziado por las ciudades de USA). \n",
    "3. Para asignar las ubicación geográfica de los centroides de cada país (latitud y longitud), utilice la tabla  **Ubicación Geográfica de Países - Google Developer**. Así como en la solución de referencia se señalan varias ciudades seleccionadas de USA. \n",
    "4. En su resolución señale/resalte a los siguientes países: USA, UK, Brazil, China, Australia, Norway.  \n",
    "\n",
    "*Cargue su cuaderno de Jupyter en GitHub, asegurandose de lo siguiente:*\n",
    "\n",
    "- En el documento se puede ver con claridad el Mapa de Ciencia de su tema de interés.\n",
    "- La figura tiene etiquetas adecuadas en los ejes de la visualización. \n",
    "- Se tiene al menos tres controles de la versión (3 commit con mensajes adecuados sobre la versión)"
   ]
  },
  {
   "cell_type": "code",
   "execution_count": 545,
   "id": "8e90d4d2",
   "metadata": {},
   "outputs": [],
   "source": [
    "# Primero se activa el paquete 're' y se abre el archivo descargado con el comando with open, donde\n",
    "# with se usa para facilitar la apertura y cierre de archivos en python\n",
    "\n",
    "# Cabe mencionar que se ha estandarizado los nombres de todos los paises, y se ha modificado el archivo\n",
    "# para que estos coincidan con los nombres provistos en el archivo coordenadas.csv\n",
    "\n",
    "import re\n",
    "\n",
    "with open('pubmed-spiderveno-set.txt') as f:\n",
    "    texto1 = f.read()\n",
    "    #print (texto1)"
   ]
  },
  {
   "cell_type": "code",
   "execution_count": 546,
   "id": "555679d4",
   "metadata": {},
   "outputs": [],
   "source": [
    "# En la línea de AD existe separacion en sus propios datos en un patro de salto de línea \n",
    "# seguido por 6 espacios y posteriormente la información que continua la línea AD (\\n\\s{6}), por\n",
    "# lo mismo, se borra este patron y se lo reemplaza por un solo espacio para de esta manera unir las \n",
    "# líneas diferentes:\n",
    "\n",
    "texto2 = re.sub(r'\\n\\s{6}', ' ', texto1)\n",
    "\n",
    "# Se puede usar print para verificar la informaciñón obtenida del archivo, y de esta manera poder \n",
    "# seleccionar el patron a emplear, en este caso se lo ha dejado como comentario para facilitar la \n",
    "# lectura del resto del codigo\n",
    "\n",
    "#print (texto2) "
   ]
  },
  {
   "cell_type": "code",
   "execution_count": 547,
   "id": "6a0332f9",
   "metadata": {},
   "outputs": [],
   "source": [
    "### A continuación se realiza la busqueda de los patrones específicos. \n",
    "\n",
    "## Se ha dividido cada patron para obtener resultados con mejor presentación y más prescisos\n",
    "## Asimismo, se utiliza flags=re.M para leer el texto como multilínes y qie identifique \n",
    "## la línea que comience con AD\n",
    "\n",
    "# El primero se ha tomado como patron todos los paises que estén escritos de la siguiente manera:\n",
    "# [espacio][Código postal], País. palabra\n",
    "# Cabe destacar que los codigos postales tienen desde 4 a 7 cifras, asimismo, solo se tomó en\n",
    "#cuenta a quellos paises que tienen de 4 a 10 letras. Se utilizó [A-Z]{1}, para indicar que el \n",
    "# patrón alfanumérico comienza con una letra en mayuscula de la A a la Z. \n",
    "\n",
    "texto3 = re.findall(r'^AD |\\s\\d{4,7}\\,\\s([A-Z]{1}\\w{4,10}\\.\\s\\w)', texto2, flags=re.M)\n",
    "\n",
    "# Para el siguiente patrón, se tomó palabra, País. [salto de línea] \n",
    "# y se utilizaron las restricciones mencionadas anteriormente. \n",
    "\n",
    "texto4 = re.findall(r'^AD | \\w*\\,\\s([A-Z]{1}\\w{4,10}\\.\\n)', texto2, flags=re.M)\n",
    "\n",
    "# En el siguiente, se tomó: letra. País. [salto de línea]: \n",
    "\n",
    "texto5 = re.findall(r'^AD | \\w\\.\\s([A-Z]{1}\\w*\\.\\n)', texto2, flags=re.M)\n",
    "\n",
    "# En el siguiente, se tomó: [espacio]palabras. País. [correo electrónico]: \n",
    "  \n",
    "texto6 = re.findall(r'^AD | \\s(\\w*\\.)\\s[a-z0-9_\\.-]+@[\\da-z\\.-]+\\.[a-z\\.]{2,6}\\.\\n', texto2, flags=re.M)\n",
    "\n",
    "# En el siguiente, se tomó: palabras. País SegundoNombre.\\n: \n",
    "\n",
    "texto7 = re.findall(r'^AD | \\w*\\,\\s([A-Z]\\w*\\s[A-Z]\\w*\\.\\n)', texto2, flags=re.M)\n",
    "\n",
    "# En el siguiente, se tomó: [espacio]CodigoPostal, País. palabra: \n",
    "\n",
    "texto8 = re.findall(r'^AD |\\s\\d{4,7}\\,\\s([A-Z]{3}\\.\\s\\w)', texto2, flags=re.M)\n",
    "\n",
    "# En el siguiente, se tomó: palabra, USA.\\n:\n",
    "\n",
    "texto9 = re.findall(r'^AD | \\w*\\,\\s([A-Z]{3}\\.\\n)', texto2, flags=re.M)\n",
    "\n",
    "# En el siguiente, se tomó: [espacio][Código postal], País.\\n:\n",
    "\n",
    "texto10 = re.findall(r'^AD |\\s\\d{4,7}\\,\\s([A-Z]{1}\\w{4,10}\\.\\n)', texto2, flags=re.M)\n",
    "\n",
    "#print (texto3)\n",
    "\n",
    "#print (texto4)\n",
    "\n",
    "#print (texto5)\n",
    "\n",
    "#print (texto6)\n",
    "\n",
    "#print (texto7)\n",
    "\n",
    "#print (texto8)\n",
    "\n",
    "#print (texto9)\n",
    "\n",
    "#print (texto10)\n",
    "\n",
    "# Cabe destacar que se ha tomado en cuenta lo maximo de posibilidades. "
   ]
  },
  {
   "cell_type": "code",
   "execution_count": 548,
   "id": "917ee3dd",
   "metadata": {},
   "outputs": [],
   "source": [
    "# Posteriormente, se genera una lista con elementos unicos de cada una de las listas generadas \n",
    "# anteriormente con las expresiones regulares.\n",
    "\n",
    "## Sin embargo, se excluirá el texto8, por poseer casos especiales como USA. J\n",
    "\n",
    "unique_texto1 = list(set(texto3))\n",
    "\n",
    "unique_texto2 = list(set(texto4))\n",
    "\n",
    "unique_texto3 = list(set(texto5))\n",
    "\n",
    "unique_texto4 = list(set(texto6))\n",
    "\n",
    "unique_texto5 = list(set(texto7))\n",
    "\n",
    "unique_texto7 = list(set(texto9))\n",
    "\n",
    "unique_texto8 = list(set(texto10))\n",
    "\n",
    "#print (unique_texto1)\n",
    "\n",
    "#print (unique_texto2)\n",
    "\n",
    "#print (unique_texto3)\n",
    "\n",
    "#print (unique_texto4)\n",
    "\n",
    "#print (unique_texto5)\n",
    "\n",
    "#print (unique_texto7)\n",
    "\n",
    "#print (unique_texto8)\n",
    "\n"
   ]
  },
  {
   "cell_type": "code",
   "execution_count": 549,
   "id": "f1a270b5",
   "metadata": {},
   "outputs": [
    {
     "name": "stdout",
     "output_type": "stream",
     "text": [
      "['Mexico. j', 'Australia. e', 'Australia. y', 'Denmark. h', 'Colombia.\\nA', 'India.\\nF', 'Australia. v', 'China. p', 'Taiwan.\\nL', 'Chile.\\nF', 'Colombia. s', 'Hungary.\\nL', 'Australia. l', 'France. e', 'China. h', 'China. t', 'Romania.\\nF', 'China. f', 'India. E', 'China. b', 'Mexico.\\nL', 'Russia. a', 'Italy. v', 'Romania.\\nA', 'Israel. E', 'China. d', 'Thailand.\\nL', 'Argentina.\\nF', 'China. n', 'Romania.\\nL', 'Australia. n', 'Australia. E', 'Tunisia.\\nF', 'China. z', 'Russia.\\nL', 'Australia. z', 'Australia. c', 'Russia. p', 'China. l', 'Switzerland.\\nF', 'Russia.\\nF', 'China. y', 'Tunisia.\\nL', 'Germany.\\nF', 'Korea.\\nF', 'Colombia.\\nF', 'Australia. b', 'Australia. M', 'China. 4', 'Korea. E', 'Colombia.\\nL', 'China. w', 'Singapore.\\nF', 'Chile.\\nL', 'Mexico. h', 'Australia. r', 'Mexico. e', 'Australia. p', 'Pakistan.\\nF', 'Colombia. c', 'China. s', 'India. d', 'Thailand. p', 'China. j', 'Australia. i', 'Australia.\\nL', 'Australia. N', 'Australia.\\nF', 'France.\\nF', 'Korea.\\nL', 'Mexico. a', 'Thailand.\\nF', 'Thailand.\\nA', 'Australia. k', 'Israel. a', 'Mexico. c', 'Australia. t', 'China. E', 'Belgium.\\nF', 'China. r', 'Mexico. E', 'China.\\nF', 'Australia. A', 'Chile.\\nA', 'Australia. m', 'China. x', 'Mexico.\\nF', 'Spain.\\nF', 'Italy. m', 'Italy. a', 'Singapore. E', 'Israel. y', 'Australia. d', 'Germany. E', 'Australia. g', 'Pakistan. E', 'China.\\nA', 'Taiwan.\\nF', 'Chile. p', 'Uruguay.\\nL', 'Australia.\\nA', 'Australia. a', 'Russia.\\nA', 'Italy. c', 'Singapore.\\nL', 'Germany.\\nL', 'Taiwan. E', 'Taiwan.\\nA', 'China. c', 'Germany.\\nA', 'China.\\nL', 'Ukraine.\\nF', 'Australia. j', 'Austria.\\nF', 'China. m', 'Mexico. r', 'Australia. s', 'Mexico. o']\n",
      "['France.\\n', 'Chile.\\n', 'Israel.\\n', 'Spain.\\n', 'Belgium.\\n', 'Korea.\\n', 'Denmark.\\n', 'Thailand.\\n', 'Italy.\\n', 'Slovenia.\\n', 'Mexico.\\n', 'India.\\n', 'Uruguay.\\n', 'Poland.\\n', 'Ukraine.\\n', 'Germany.\\n', 'Netherlands.\\n', 'Switzerland.\\n', 'Colombia.\\n', 'Norway.\\n', 'Venezuela.\\n', 'Turkey.\\n', 'Hungary.\\n', 'Romania.\\n', 'Egypt.\\n', 'Tunisia.\\n', 'Finland.\\n', 'Canada.\\n', 'Singapore.\\n', 'Argentina.\\n', 'Portugal.\\n', 'Ireland.\\n', 'Algeria.\\n', 'China.\\n', 'Greece.\\n', 'Sweden.\\n', 'Russia.\\n', 'Brazil.\\n', 'Philippines.\\n', 'Pakistan.\\n', 'Japan.\\n', 'Australia.\\n', 'Austria.\\n', 'Taiwan.\\n', 'Malaysia.\\n']\n",
      "['China.\\n']\n",
      "['USA.', 'Switzerland.', 'Argentina.', 'Africa.', 'Australia.', 'Colombia.', 'Germany.', 'Brazil.', 'China.', 'Italy.']\n",
      "['Saudi Arabia.\\n', 'The Netherlands.\\n', 'New Zealand.\\n', 'South Africa.\\n', 'Hong Kong.\\n', 'Costa Rica.\\n', 'United Kingdom.\\n', 'Czech Republic.\\n']\n",
      "['USA.\\n']\n",
      "['France.\\n', 'Chile.\\n', 'Spain.\\n', 'Belgium.\\n', 'Korea.\\n', 'Thailand.\\n', 'India.\\n', 'Mexico.\\n', 'Uruguay.\\n', 'Ukraine.\\n', 'Germany.\\n', 'Switzerland.\\n', 'Colombia.\\n', 'Hungary.\\n', 'Romania.\\n', 'Tunisia.\\n', 'Singapore.\\n', 'Argentina.\\n', 'China.\\n', 'Russia.\\n', 'Pakistan.\\n', 'Australia.\\n', 'Austria.\\n', 'Taiwan.\\n']\n"
     ]
    }
   ],
   "source": [
    "## Como se pudo observar gracias a print, en el anterior punto. Existe un elemento extra al inicio\n",
    "# de cada lista -> '', por lo que se procede a borrarlo, para que el mismo no genere problemas\n",
    "# con lo que resta del código. Se emplea lista.pop[posición]\n",
    "\n",
    "unique_texto1.pop(0)\n",
    "unique_texto2.pop(0)\n",
    "unique_texto3.pop(0)\n",
    "unique_texto4.pop(0)\n",
    "unique_texto5.pop(0)\n",
    "unique_texto7.pop(0)\n",
    "unique_texto8.pop(0)\n",
    "\n",
    "print(unique_texto1)\n",
    "print(unique_texto2)\n",
    "print(unique_texto3)\n",
    "print(unique_texto4)\n",
    "print(unique_texto5)\n",
    "print(unique_texto7)\n",
    "print(unique_texto8)"
   ]
  },
  {
   "cell_type": "code",
   "execution_count": 550,
   "id": "9ab8d1bd",
   "metadata": {},
   "outputs": [],
   "source": [
    "# Posteriormente, se convierte las listas a una cadena de texto, para extraer unicamente los \n",
    "# nombres de los paises, ya que como se puede verificar, algunos paises incluyen otros simbolos\n",
    "# como puntos, comas, \\n, etc. \n",
    "\n",
    "#NOTA: No se ha tomado en cuenta el unique_texto5 ni unique_texto7 \n",
    "\n",
    "sincoma1 = \"\".join([str(_) for _ in unique_texto1])\n",
    "sincoma2 = \"\".join([str(_) for _ in unique_texto2])\n",
    "sincoma3 = \"\".join([str(_) for _ in unique_texto3])\n",
    "sincoma4 = \"\".join([str(_) for _ in unique_texto4])\n",
    "sincoma8 = \"\".join([str(_) for _ in unique_texto8])\n",
    "\n",
    "# Para los patrones, se requiere extraer unicamente el nombre de los paises, por lo que \n",
    "# para el primero, como se tienen paises de manera LChina, se debe expecificar que solo se \n",
    "# desea extraer China, por lo mismo se usa el patron Letra mayuscula seguido de una letra minuscula\n",
    "# [A-Z]{1}[a-z]{1}, seguido de un patrón alfa numérico \\w*\n",
    "\n",
    "texto_unico1_1 = re.findall(r'([A-Z]{1}[a-z]{1}\\w*)', sincoma1)\n",
    "\n",
    "# Las demás solo tiene en patrol alfanumérico\n",
    "\n",
    "texto_unico1_2 = re.findall(r'\\w*', sincoma2)\n",
    "texto_unico1_3 = re.findall(r'\\w*', sincoma3)\n",
    "texto_unico1_4 = re.findall(r'\\w*', sincoma4)\n",
    "texto_unico1_8 = re.findall(r'\\w*', sincoma8)\n",
    "\n",
    "# Se vuelve a generar listas con elementos unicos\n",
    "\n",
    "texto_unico1 = list(set(texto_unico1_1))\n",
    "texto_unico2 = list(set(texto_unico1_2))\n",
    "texto_unico3 = list(set(texto_unico1_3))\n",
    "texto_unico4 = list(set(texto_unico1_4))\n",
    "texto_unico8 = list(set(texto_unico1_8))\n",
    "\n",
    "#print (texto_unico1)\n",
    "#print (texto_unico2)\n",
    "#print (texto_unico3)\n",
    "#print (texto_unico4)\n",
    "#print (texto_unico8)\n"
   ]
  },
  {
   "cell_type": "code",
   "execution_count": 551,
   "id": "f6422baa-c77c-4d11-ad9a-279ebb9975eb",
   "metadata": {},
   "outputs": [
    {
     "name": "stdout",
     "output_type": "stream",
     "text": [
      "Saudi Arabia.\n",
      "The Netherlands.\n",
      "New Zealand.\n",
      "South Africa.\n",
      "Hong Kong.\n",
      "Costa Rica.\n",
      "United Kingdom.\n",
      "Czech Republic.\n",
      "\n",
      "Saudi Arabia, The Netherlands, New Zealand, South Africa, Hong Kong, Costa Rica, United Kingdom, Czech Republic, \n",
      "['Saudi Arabia', 'South Africa', 'Hong Kong', 'Costa Rica', 'United Kingdom', 'Czech Republic']\n",
      "['Saudi Arabia', 'South Africa', 'Hong Kong', 'Costa Rica', 'United Kingdom', 'Czech Republic']\n"
     ]
    }
   ],
   "source": [
    "# Para unique_texto5, primero se lo convierte en una cadena de texto,  posteriormente se elimina\n",
    "# el punto y el salto de línea y se los reemplaza por una coma y un espacio y se nombra a este \n",
    "# como textosub1_5\n",
    "\n",
    "sincoma5 = \"\".join([str(_) for _ in unique_texto5])\n",
    "print (sincoma5)\n",
    "textosub1_5 = re.sub(r'\\.\\n', ', ', sincoma5)\n",
    "print (textosub1_5)\n",
    "\n",
    "# Ahora a textosub1_5 se le extrae unicamente el nombre del pais, el cual esta compiesto por \n",
    "# PrimerNombre SegundoNombre por lo que se utiliza el siguiente patron:\n",
    "\n",
    "texto_unico1_5 = re.findall(r'([A-Z]{1}\\w{3,5}\\s\\w*)', textosub1_5)\n",
    "print (texto_unico1_5)\n",
    "\n",
    "# Se renombra la anterior lista creada como texto_unico5, al igual que las demás.\n",
    "\n",
    "texto_unico5 = texto_unico1_5\n",
    "\n",
    "print (texto_unico5)\n"
   ]
  },
  {
   "cell_type": "code",
   "execution_count": 552,
   "id": "35e4b36d-a2a9-4e7a-a159-b668c126d4d6",
   "metadata": {},
   "outputs": [
    {
     "name": "stdout",
     "output_type": "stream",
     "text": [
      "['USA']\n",
      "['', 'USA']\n"
     ]
    }
   ],
   "source": [
    "# Por otra parte, para el texto8, primero a este se lo convierte en una cadena de texto, \n",
    "# y se la nombra texto8_1\n",
    "\n",
    "texto8_1 = \"\".join([str(_) for _ in texto8])\n",
    "\n",
    "# En este se extrae específicamente la palabra USA\n",
    "\n",
    "texto8_2 = re.findall(r'USA', texto8_1)\n",
    "\n",
    "# De esta, se genera una nueva lista con los elementos unicos. \n",
    "\n",
    "texto_unico6 = list(set(texto8_2))\n",
    "\n",
    "print(texto_unico6)\n",
    "\n",
    "# Finalmente, para unique_texto7, se lo convierte en una cadena de texto, de la cual se busca el \n",
    "# patrón específico y se genera una lista con elementos unicos.\n",
    "\n",
    "sincoma7 = \"\".join([str(_) for _ in unique_texto7])\n",
    "\n",
    "texto_unico1_7 = re.findall(r'\\w*', sincoma7)\n",
    "\n",
    "texto_unico7 = list(set(texto_unico1_7))\n",
    "\n",
    "print (texto_unico7)"
   ]
  },
  {
   "cell_type": "code",
   "execution_count": 553,
   "id": "9b9ec5e4",
   "metadata": {},
   "outputs": [
    {
     "name": "stdout",
     "output_type": "stream",
     "text": [
      "['India', 'Argentina', 'Denmark', 'France', 'China', 'Switzerland', 'Belgium', 'Ukraine', 'Spain', 'Romania', 'Germany', 'Hungary', 'Korea', 'Austria', 'Chile', 'Uruguay', 'Australia', 'Singapore', 'Thailand', 'Italy', 'Israel', 'Mexico', 'Colombia', 'Pakistan', 'Taiwan', 'Tunisia']\n",
      "['Russia', 'India', 'Argentina', 'Portugal', 'Slovenia', 'Denmark', 'Finland', 'France', 'Belgium', 'Ukraine', 'Switzerland', 'China', 'Spain', 'Greece', 'Japan', 'Romania', 'Germany', 'Sweden', 'Hungary', 'Korea', 'Austria', 'Poland', 'Uruguay', 'Chile', 'Australia', 'Brazil', 'Egypt', 'Algeria', 'Singapore', 'Thailand', 'Philippines', 'Venezuela', 'Canada', 'Italy', 'Tunisia', 'Israel', 'Mexico', 'Malaysia', 'Norway', 'Colombia', 'Pakistan', 'Ireland', 'Taiwan', 'Netherlands', 'Turkey']\n",
      "['China']\n",
      "['Brazil', 'Switzerland', 'China', 'Colombia', 'Argentina', 'USA', 'Germany', 'Italy', 'Australia', 'Africa']\n",
      "['USA']\n",
      "['Russia', 'India', 'Argentina', 'France', 'Belgium', 'Ukraine', 'Switzerland', 'China', 'Spain', 'Romania', 'Germany', 'Hungary', 'Korea', 'Austria', 'Chile', 'Uruguay', 'Australia', 'Singapore', 'Thailand', 'Mexico', 'Colombia', 'Pakistan', 'Taiwan', 'Tunisia']\n"
     ]
    }
   ],
   "source": [
    "# Se elimina el elemento 0 que corresponde a '', y no se toma en cuenta a texto_unico5 ni \n",
    "#texto_unico6, ya que los mismos no poseen el elemento mencionado\n",
    "\n",
    "texto_unico1.pop(0)\n",
    "texto_unico2.pop(0)\n",
    "texto_unico3.pop(0)\n",
    "texto_unico4.pop(0)\n",
    "texto_unico7.pop(0)\n",
    "texto_unico8.pop(0)\n",
    "\n",
    "print(texto_unico1)\n",
    "print(texto_unico2)\n",
    "print(texto_unico3)\n",
    "print(texto_unico4)\n",
    "print(texto_unico7)\n",
    "print(texto_unico8)\n"
   ]
  },
  {
   "cell_type": "code",
   "execution_count": 554,
   "id": "9500f18a-0a9e-411c-8387-2d812367036e",
   "metadata": {},
   "outputs": [],
   "source": [
    "#Se unen todas las listas creadas con .extend y finalmente se imprime para comprobar\n",
    "texto_unico1.extend(texto_unico2)"
   ]
  },
  {
   "cell_type": "code",
   "execution_count": 555,
   "id": "6d391d1a-3196-4cbe-8bbb-2853bf50cb20",
   "metadata": {},
   "outputs": [],
   "source": [
    "texto_unico1.extend(texto_unico3)"
   ]
  },
  {
   "cell_type": "code",
   "execution_count": 556,
   "id": "0d2b9448-703f-4b22-9005-aa90bc8fb57b",
   "metadata": {},
   "outputs": [],
   "source": [
    "texto_unico1.extend(texto_unico4)"
   ]
  },
  {
   "cell_type": "code",
   "execution_count": 557,
   "id": "f536d679-0e38-42a0-8d08-1cbe0db4d9e5",
   "metadata": {},
   "outputs": [],
   "source": [
    "texto_unico1.extend(texto_unico5)"
   ]
  },
  {
   "cell_type": "code",
   "execution_count": 558,
   "id": "6fdb6642-31b5-47d1-bda0-56f1f309cf15",
   "metadata": {},
   "outputs": [],
   "source": [
    "texto_unico1.extend(texto_unico6)"
   ]
  },
  {
   "cell_type": "code",
   "execution_count": 559,
   "id": "540a5a2b-8b5d-497a-94b8-b38fb114f16b",
   "metadata": {},
   "outputs": [],
   "source": [
    "texto_unico1.extend(texto_unico7)"
   ]
  },
  {
   "cell_type": "code",
   "execution_count": 560,
   "id": "2220f009-e91f-41a4-8893-eb79f116238b",
   "metadata": {},
   "outputs": [
    {
     "name": "stdout",
     "output_type": "stream",
     "text": [
      "['India', 'Argentina', 'Denmark', 'France', 'China', 'Switzerland', 'Belgium', 'Ukraine', 'Spain', 'Romania', 'Germany', 'Hungary', 'Korea', 'Austria', 'Chile', 'Uruguay', 'Australia', 'Singapore', 'Thailand', 'Italy', 'Israel', 'Mexico', 'Colombia', 'Pakistan', 'Taiwan', 'Tunisia', 'Russia', 'India', 'Argentina', 'Portugal', 'Slovenia', 'Denmark', 'Finland', 'France', 'Belgium', 'Ukraine', 'Switzerland', 'China', 'Spain', 'Greece', 'Japan', 'Romania', 'Germany', 'Sweden', 'Hungary', 'Korea', 'Austria', 'Poland', 'Uruguay', 'Chile', 'Australia', 'Brazil', 'Egypt', 'Algeria', 'Singapore', 'Thailand', 'Philippines', 'Venezuela', 'Canada', 'Italy', 'Tunisia', 'Israel', 'Mexico', 'Malaysia', 'Norway', 'Colombia', 'Pakistan', 'Ireland', 'Taiwan', 'Netherlands', 'Turkey', 'China', 'Brazil', 'Switzerland', 'China', 'Colombia', 'Argentina', 'USA', 'Germany', 'Italy', 'Australia', 'Africa', 'Saudi Arabia', 'South Africa', 'Hong Kong', 'Costa Rica', 'United Kingdom', 'Czech Republic', 'USA', 'USA', 'Russia', 'India', 'Argentina', 'France', 'Belgium', 'Ukraine', 'Switzerland', 'China', 'Spain', 'Romania', 'Germany', 'Hungary', 'Korea', 'Austria', 'Chile', 'Uruguay', 'Australia', 'Singapore', 'Thailand', 'Mexico', 'Colombia', 'Pakistan', 'Taiwan', 'Tunisia']\n"
     ]
    }
   ],
   "source": [
    "texto_unico1.extend(texto_unico8)\n",
    "print(texto_unico1)"
   ]
  },
  {
   "cell_type": "code",
   "execution_count": 561,
   "id": "243db30a-041e-4ef5-8246-c3edbe5f1b17",
   "metadata": {},
   "outputs": [
    {
     "name": "stdout",
     "output_type": "stream",
     "text": [
      "53\n"
     ]
    }
   ],
   "source": [
    "# Con las listas unificadas, se genera una nueva, compuesta por elementos únicos, con el nombre de\n",
    "# paises\n",
    "\n",
    "paises = list(set(texto_unico1))\n",
    "\n",
    "print(len(paises))"
   ]
  },
  {
   "cell_type": "code",
   "execution_count": 562,
   "id": "31be85ef",
   "metadata": {},
   "outputs": [],
   "source": [
    "# Se ordena la anterior y se imprime los 53 paises que la componen\n",
    "\n",
    "paises.sort()\n"
   ]
  },
  {
   "cell_type": "code",
   "execution_count": 563,
   "id": "58345421",
   "metadata": {},
   "outputs": [
    {
     "data": {
      "text/plain": [
       "['Africa',\n",
       " 'Algeria',\n",
       " 'Argentina',\n",
       " 'Australia',\n",
       " 'Austria',\n",
       " 'Belgium',\n",
       " 'Brazil',\n",
       " 'Canada',\n",
       " 'Chile',\n",
       " 'China',\n",
       " 'Colombia',\n",
       " 'Costa Rica',\n",
       " 'Czech Republic',\n",
       " 'Denmark',\n",
       " 'Egypt',\n",
       " 'Finland',\n",
       " 'France',\n",
       " 'Germany',\n",
       " 'Greece',\n",
       " 'Hong Kong',\n",
       " 'Hungary',\n",
       " 'India',\n",
       " 'Ireland',\n",
       " 'Israel',\n",
       " 'Italy',\n",
       " 'Japan',\n",
       " 'Korea',\n",
       " 'Malaysia',\n",
       " 'Mexico',\n",
       " 'Netherlands',\n",
       " 'Norway',\n",
       " 'Pakistan',\n",
       " 'Philippines',\n",
       " 'Poland',\n",
       " 'Portugal',\n",
       " 'Romania',\n",
       " 'Russia',\n",
       " 'Saudi Arabia',\n",
       " 'Singapore',\n",
       " 'Slovenia',\n",
       " 'South Africa',\n",
       " 'Spain',\n",
       " 'Sweden',\n",
       " 'Switzerland',\n",
       " 'Taiwan',\n",
       " 'Thailand',\n",
       " 'Tunisia',\n",
       " 'Turkey',\n",
       " 'USA',\n",
       " 'Ukraine',\n",
       " 'United Kingdom',\n",
       " 'Uruguay',\n",
       " 'Venezuela']"
      ]
     },
     "execution_count": 563,
     "metadata": {},
     "output_type": "execute_result"
    }
   ],
   "source": [
    "paises[:53]"
   ]
  },
  {
   "cell_type": "code",
   "execution_count": 564,
   "id": "92a59f71-eeee-4188-998f-6146204663bc",
   "metadata": {},
   "outputs": [],
   "source": [
    "# Se activa el paquete csv, que permite leer archivos con terminación .csv\n",
    "# Se abre el archivo coordenadas.csv el cual consta de los paises, las latitudes y longitudes.\n",
    "\n",
    "import csv\n",
    "coordenadas = {}\n",
    "with open('coordenadas.csv') as file:\n",
    "    csvr = csv.DictReader(file)\n",
    "    for row in csvr: # Se escoje que etiquetas se usara y se las convierte en filas\n",
    "        coordenadas[row['name']] = [(row['latitude']),(row['longitude'])]\n"
   ]
  },
  {
   "cell_type": "code",
   "execution_count": 565,
   "id": "7fa044ce-e3c2-4f73-b477-03e9d166d361",
   "metadata": {},
   "outputs": [],
   "source": [
    "# Se crea las listas para los nombres de los paises, la longitud, latitud, y el conteo de\n",
    "# repeticiones.\n",
    "\n",
    "pais_name = []\n",
    "pais_long = []\n",
    "pais_lat = []\n",
    "pais_count = []"
   ]
  },
  {
   "cell_type": "code",
   "execution_count": 566,
   "id": "3d154f60-6125-4932-88b9-429d69065f2b",
   "metadata": {},
   "outputs": [],
   "source": [
    "# Se unen todas las listas creadas al principio, las cuales llevaban el nombre de texto\n",
    "texto = texto3\n",
    "texto_a = texto4\n",
    "texto_b = texto5\n",
    "texto_c = texto6\n",
    "texto_d = texto7\n",
    "texto_e = texto8_2 # Se emplea texto8_2, ya que este posee el nombre del pais sin ningun simbolo\n",
    "                   # espescial como en texto8\n",
    "texto_f = texto9\n",
    "texto_g = texto10\n",
    "\n"
   ]
  },
  {
   "cell_type": "code",
   "execution_count": 567,
   "id": "3e290a30-c895-413c-aeab-42c30f31f042",
   "metadata": {},
   "outputs": [],
   "source": [
    "texto.extend(texto_a)\n"
   ]
  },
  {
   "cell_type": "code",
   "execution_count": 568,
   "id": "16d9af5b-41e2-419c-af90-76936fb89ef3",
   "metadata": {},
   "outputs": [],
   "source": [
    "texto.extend(texto_b)\n"
   ]
  },
  {
   "cell_type": "code",
   "execution_count": 569,
   "id": "60bc75ee-3c99-45b0-971f-d8efe1acb90a",
   "metadata": {},
   "outputs": [],
   "source": [
    "texto.extend(texto_c)\n"
   ]
  },
  {
   "cell_type": "code",
   "execution_count": 570,
   "id": "a4cc259b-ac53-4a68-a889-776bfd878718",
   "metadata": {},
   "outputs": [],
   "source": [
    "texto.extend(texto_g)"
   ]
  },
  {
   "cell_type": "code",
   "execution_count": 571,
   "id": "a33d6a65-4ffc-443e-9273-c830c3ee8e06",
   "metadata": {},
   "outputs": [],
   "source": [
    "#print (texto)"
   ]
  },
  {
   "cell_type": "code",
   "execution_count": 572,
   "id": "812484b9-f57f-4320-bd62-50ee3381ef6e",
   "metadata": {},
   "outputs": [
    {
     "name": "stdout",
     "output_type": "stream",
     "text": [
      "36063\n"
     ]
    }
   ],
   "source": [
    "# Al igual que antes, a esta nueva lista llamada texto, se la convierte en una cadena de texto\n",
    "# de la cual se extrae todos los nombres de los paises.\n",
    "\n",
    "paises_rep = \"\".join([str(_) for _ in texto])\n",
    "\n",
    "paises_repetidos = re.findall(r'([A-Z]{1}[a-z]{1}\\w*)', paises_rep)\n",
    "\n",
    "#print(paises_repetidos)\n",
    "print(len(solo_paises))"
   ]
  },
  {
   "cell_type": "code",
   "execution_count": 573,
   "id": "c4c7a2cf-0ea2-464b-91da-63e5942ccc87",
   "metadata": {},
   "outputs": [],
   "source": [
    "# Por otra parte al texto_e tener paises compuestos por dos nombres, se realiza esto por separado:\n",
    "texto_e1 = \"\".join([str(_) for _ in texto_e])\n",
    "\n",
    "plus_e = re.findall(r'USA', texto_e1)\n",
    "\n",
    "#print(plus_e)\n",
    "\n",
    "# Se unen ambas listas con extend\n",
    "\n",
    "paises_repetidos.extend(plus_e)\n"
   ]
  },
  {
   "cell_type": "code",
   "execution_count": 574,
   "id": "eded3a1f-5f63-4be0-bf26-b496cf2b69e3",
   "metadata": {},
   "outputs": [],
   "source": [
    "#texto.extend(texto_f)\n",
    "\n",
    "# Por otra parte al texto_f tener paises compuestos por dos nombres, se realiza esto por separado:\n",
    "texto_f1 = \"\".join([str(_) for _ in texto_f])\n",
    "\n",
    "plus_f = re.findall(r'USA', texto_f1)\n",
    "\n",
    "#print(plus_f)\n",
    "\n",
    "# Se unen ambas listas con extend\n",
    "\n",
    "paises_repetidos.extend(plus_f)\n"
   ]
  },
  {
   "cell_type": "code",
   "execution_count": 575,
   "id": "8f40bf26-74e8-401f-bccf-19a74958ce8e",
   "metadata": {},
   "outputs": [],
   "source": [
    "# Por otra parte al texto_d tener paises compuestos por dos nombres, se realiza esto por separado:\n",
    "texto_d1 = \"\".join([str(_) for _ in texto_d])\n",
    "\n",
    "plus = re.findall(r'([A-Z]{1}\\w{3,5}\\s\\w*)', texto_d1)\n",
    "\n",
    "# Se unen ambas listas con extend\n",
    "\n",
    "paises_repetidos.extend(plus)\n",
    "\n",
    "#print(paises_repetidos)"
   ]
  },
  {
   "cell_type": "code",
   "execution_count": 576,
   "id": "d200f5d5-5f82-427a-8eb8-ad4858772d10",
   "metadata": {},
   "outputs": [],
   "source": [
    "# Se popiliza las listas antes creadas\n",
    "\n",
    "for p in paises:\n",
    "    if p in coordenadas.keys():\n",
    "        pais_name.append(p)\n",
    "        pais_lat.append(float(coordenadas[p][0]))\n",
    "        pais_long.append(float(coordenadas[p][1]))\n",
    "        pais_count.append(paises_repetidos.count(p))\n"
   ]
  },
  {
   "cell_type": "code",
   "execution_count": 577,
   "id": "eda68200-cae2-4c25-a188-87cf90f7f58e",
   "metadata": {},
   "outputs": [
    {
     "name": "stdout",
     "output_type": "stream",
     "text": [
      "['Algeria', 'Argentina', 'Australia', 'Austria', 'Belgium', 'Brazil', 'Canada', 'Chile', 'China', 'Colombia', 'Costa Rica', 'Czech Republic', 'Denmark', 'Egypt', 'Finland', 'France', 'Germany', 'Greece', 'Hong Kong', 'Hungary', 'India', 'Ireland', 'Israel', 'Italy', 'Japan', 'Korea', 'Malaysia', 'Mexico', 'Norway', 'Pakistan', 'Philippines', 'Poland', 'Portugal', 'Romania', 'Russia', 'Saudi Arabia', 'Singapore', 'Slovenia', 'South Africa', 'Spain', 'Sweden', 'Switzerland', 'Taiwan', 'Thailand', 'Tunisia', 'Turkey', 'USA', 'Ukraine', 'United Kingdom', 'Uruguay', 'Venezuela']\n",
      "[28.033886, -38.416097, -25.274398, 47.516231, 50.503887, -14.235004, 56.130366, -35.675147, 35.86166, 4.570868, 9.748917, 49.817492, 56.26392, 26.820553, 61.92411, 46.227638, 51.165691, 39.074208, 22.396428, 47.162494, 20.593684, 53.41291, 31.046051, 41.87194, 36.204824, 35.907757, 4.210484, 23.634501, 60.472024, 30.375321, 12.879721, 51.919438, 39.399872, 45.943161, 61.52401, 23.885942, 1.352083, 46.151241, -30.559482, 40.463667, 60.128161, 46.818188, 23.69781, 15.870032, 33.886917, 38.963745, 37.09024, 48.379433, 55.378051, -32.522779, 6.42375]\n",
      "[1.659626, -63.616672, 133.775136, 14.550072, 4.469936, -51.92528, -106.346771, -71.542969, 104.195397, -74.297333, -83.753428, 15.472962, 9.501785, 30.802498, 25.748151, 2.213749, 10.451526, 21.824312, 114.109497, 19.503304, 78.96288, -8.24389, 34.851612, 12.56738, 138.252924, 127.766922, 101.975766, -102.552784, 8.468946, 69.345116, 121.774017, 19.145136, -8.224454, 24.96676, 105.318756, 45.079162, 103.819836, 14.995463, 22.937506, -3.74922, 18.643501, 8.227512, 120.960515, 100.992541, 9.537499, 35.243322, -95.712891, 31.16558, -3.435973, -55.765835, -66.58973]\n",
      "[1, 64, 1286, 15, 44, 912, 26, 51, 1587, 56, 2, 25, 60, 3, 3, 129, 132, 4, 1, 9, 43, 28, 17, 109, 52, 59, 5, 209, 9, 40, 11, 2, 2, 32, 228, 5, 10, 4, 1, 32, 6, 70, 73, 39, 10, 32, 1012, 9, 107, 4, 3]\n"
     ]
    }
   ],
   "source": [
    "# Se verifica que las mismas contengan todos los paises, y que a estos les corresponda las coorde-\n",
    "# nadas y el conteo correspondiente a cada uno. \n",
    "\n",
    "print(pais_name)\n",
    "print(pais_lat)\n",
    "print(pais_long)\n",
    "print(pais_count)"
   ]
  },
  {
   "cell_type": "code",
   "execution_count": 578,
   "id": "c5cef3a3-57d4-419a-85ff-bfe1476dcc60",
   "metadata": {},
   "outputs": [
    {
     "data": {
      "image/png": "[encoded data removed]",
      "text/plain": [
       "<Figure size 1296x864 with 2 Axes>"
      ]
     },
     "metadata": {
      "needs_background": "light"
     },
     "output_type": "display_data"
    }
   ],
   "source": [
    "# Se procede a graficar los puntos en un mapa carteciano mediante el paquete matplotlib.pyplot\n",
    "\n",
    "import matplotlib.pyplot as plt\n",
    "%matplotlib inline\n",
    "plt.scatter(pais_long, pais_lat, s = pais_count, c= pais_count)\n",
    "plt.colorbar()\n",
    "plt.xlim(-115,145) # Las dimensiones del plano dependen de las listas de coordenadas.\n",
    "plt.ylim(-70, 70)\n",
    "# Se añaden algunos paises como referencia y se marcan los que tienen más relevancia.\n",
    "ard = dict(arrowstyle=\"->\")\n",
    "plt.annotate('USA', xy = (-95.712891, 37.09024), \n",
    "               xytext = (-87.183406, 30.831239), arrowprops = ard)\n",
    "plt.annotate('Rusia', xy = (105.318756, 61.52401), \n",
    "               xytext = (100.318756, 50.016521), arrowprops= ard)\n",
    "plt.annotate('Brazil', xy = (-51.92528, -14.235004), \n",
    "               xytext = (-30.318756, -05.016521), arrowprops= ard)\n",
    "plt.annotate('Australia', xy = (133.775136, -25.274398), \n",
    "               xytext = (120.921327, -10.759275), arrowprops= ard)\n",
    "plt.annotate('Mexico', xy = (-102.552784, 23.634501), \n",
    "               xytext = (-110.552784, 15.634501), arrowprops= ard)\n",
    "plt.annotate('España', xy = (-3.74922, 40.463667), \n",
    "               xytext = (-30.74922, 40.463667), arrowprops= ard)\n",
    "plt.annotate('China', xy = (104.195397, 35.86166), \n",
    "               xytext = (110.510093, 40.339852), arrowprops= ard)\n",
    "plt.annotate('Noruega', xy = (8.468946, 60.472024), \n",
    "               xytext = (11.468946, 64.472024), arrowprops= ard)\n",
    "plt.annotate('Reino Unido', xy = (-3.435973, 55.378051), \n",
    "               xytext = (-20.435973, 65.378051), arrowprops= ard)\n",
    "\n",
    "params = plt.gcf()\n",
    "plSize = params.get_size_inches()\n",
    "params.set_size_inches( (plSize[0] * 3, plSize[1] * 3) )\n",
    "plt.show()"
   ]
  },
  {
   "cell_type": "code",
   "execution_count": 544,
   "id": "eeb8e7e7-f2c7-4776-bba9-5f595e6b8369",
   "metadata": {},
   "outputs": [
    {
     "name": "stdout",
     "output_type": "stream",
     "text": [
      "\u001b[H\u001b[2J"
     ]
    }
   ],
   "source": [
    "clear"
   ]
  },
  {
   "cell_type": "code",
   "execution_count": null,
   "id": "6ac4df99-540f-4e8e-91d5-fd9e5de26ea7",
   "metadata": {},
   "outputs": [],
   "source": []
  }
 ],
 "metadata": {
  "kernelspec": {
   "display_name": "Python 3 (ipykernel)",
   "language": "python",
   "name": "python3"
  },
  "language_info": {
   "codemirror_mode": {
    "name": "ipython",
    "version": 3
   },
   "file_extension": ".py",
   "mimetype": "text/x-python",
   "name": "python",
   "nbconvert_exporter": "python",
   "pygments_lexer": "ipython3",
   "version": "3.9.7"
  }
 },
 "nbformat": 4,
 "nbformat_minor": 5
}
