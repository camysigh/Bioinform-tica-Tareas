{
 "cells": [
  {
   "cell_type": "markdown",
   "id": "364a93b2",
   "metadata": {},
   "source": [
    "<img src=\"Logo-ikiam-.png\" width=300 height=240 />\n",
    "\n",
    "<h1><center>TAREA 2 - Parcial 2</center></h1>\n",
    "\n",
    "<h2><center>GBI6-2021II: BIOINFORMÁTICA</center></h2>\n",
    "\n",
    "**<h3><center>Freire Torres, Camila Micaela</center></h3>**\n",
    "\n",
    "**<h4><center>Fecha de entrega: 16-02-2022</center></h4>**"
   ]
  },
  {
   "cell_type": "markdown",
   "id": "7eef1b79",
   "metadata": {},
   "source": [
    "## <font color='brown'>Ejercicio 1</font>\n",
    "\n",
    "Basado en las sesiones de **Visualización de datos** y **Expresiones resulares**. Realice una adaptación de la solución del MAP OF SCIENCE. Se requiere dos adaptaciones para resolver esta actividad:\n",
    "\n",
    "1. Buscar bibliografía de un tema de interés propio en la Página Web de PubMed,\n",
    "2. Realizar el minado de autores por país (en el ejemplo se encuentra realziado por las ciudades de USA). \n",
    "3. Para asignar las ubicación geográfica de los centroides de cada país (latitud y longitud), utilice la tabla  **Ubicación Geográfica de Países - Google Developer**. Así como en la solución de referencia se señalan varias ciudades seleccionadas de USA. \n",
    "4. En su resolución señale/resalte a los siguientes países: USA, UK, Brazil, China, Australia, Norway.  \n",
    "\n",
    "*Cargue su cuaderno de Jupyter en GitHub, asegurandose de lo siguiente:*\n",
    "\n",
    "- En el documento se puede ver con claridad el Mapa de Ciencia de su tema de interés.\n",
    "- La figura tiene etiquetas adecuadas en los ejes de la visualización. \n",
    "- Se tiene al menos tres controles de la versión (3 commit con mensajes adecuados sobre la versión)"
   ]
  },
  {
   "cell_type": "code",
   "execution_count": 238,
   "id": "8e90d4d2",
   "metadata": {},
   "outputs": [],
   "source": [
    "# Primero se activa el paquete 're' y se abre el archivo descargado con el comando with open, donde\n",
    "# with se usa para facilitar la apertura y cierre de archivos en python\n",
    "\n",
    "import re\n",
    "\n",
    "with open('pubmed-spiderveno-set.txt') as f:\n",
    "    texto1 = f.read()\n",
    "    #print (texto1)"
   ]
  },
  {
   "cell_type": "code",
   "execution_count": 239,
   "id": "555679d4",
   "metadata": {},
   "outputs": [],
   "source": [
    "texto2 = re.sub(r'\\n\\s{6}', ' ', texto1)\n",
    "\n",
    "#print (texto2)"
   ]
  },
  {
   "cell_type": "code",
   "execution_count": 240,
   "id": "6a0332f9",
   "metadata": {},
   "outputs": [],
   "source": [
    "texto3 = re.findall(r'^AD |\\s\\d{4,7}\\,\\s([A-Z]{1}\\w{4,10}\\.\\s\\w)', texto2, flags=re.M)\n",
    "\n",
    "texto4 = re.findall(r'^AD | \\w*\\,\\s([A-Z]{1}\\w{4,10}\\.\\n)', texto2, flags=re.M)\n",
    "\n",
    "texto5 = re.findall(r'^AD | \\w\\.\\s([A-Z]{1}\\w*\\.\\n)', texto2, flags=re.M)\n",
    "  \n",
    "texto6 = re.findall(r'^AD | \\s(\\w*\\.)\\s[a-z0-9_\\.-]+@[\\da-z\\.-]+\\.[a-z\\.]{2,6}\\.\\n', texto2, flags=re.M)\n",
    "\n",
    "texto7 = re.findall(r'^AD | \\w*\\,\\s([A-Z]\\w*\\s[A-Z]\\w*\\.\\n)', texto2, flags=re.M)\n",
    "\n",
    "texto8 = re.findall(r'^AD |\\s\\d{4,7}\\,\\s([A-Z]{3}\\.\\s\\w)', texto2, flags=re.M)\n",
    "\n",
    "texto9 = re.findall(r'^AD | \\w*\\,\\s([A-Z]{3}\\.\\n)', texto2, flags=re.M)\n",
    "\n",
    "#print (texto3)\n",
    "\n",
    "#print (texto4)\n",
    "\n",
    "#print (texto5)\n",
    "\n",
    "#print (texto6)\n",
    "\n",
    "#print (texto7)\n",
    "\n",
    "#print (texto8)\n",
    "\n",
    "#print (texto9)\n",
    "\n"
   ]
  },
  {
   "cell_type": "code",
   "execution_count": 241,
   "id": "917ee3dd",
   "metadata": {},
   "outputs": [
    {
     "name": "stdout",
     "output_type": "stream",
     "text": [
      "['', 'Russia.\\nA', 'Korea.\\nF', 'Australia. v', 'China. l', 'Australia. l', 'Mexico.\\nF', 'Australia. m', 'Mexico.\\nL', 'India. d', 'Colombia. c', 'Australia. r', 'China. x', 'Hungary.\\nL', 'Australia. i', 'Russia.\\nL', 'Switzerland.\\nF', 'France. e', 'Taiwan.\\nF', 'China. E', 'Australia. g', 'Mexico. h', 'China.\\nF', 'Chile.\\nL', 'China.\\nA', 'Australia. n', 'Australia. d', 'Colombia. s', 'Tunisia.\\nL', 'Thailand. p', 'Romania.\\nL', 'Mexico. r', 'Australia. k', 'Chile. p', 'Mexico. e', 'Uruguay.\\nL', 'China. f', 'Australia. M', 'Australia. p', 'Mexico. E', 'Australia. j', 'Germany. E', 'Australia. t', 'Mexico. j', 'China. w', 'Australia. N', 'Australia. b', 'Romania.\\nF', 'Australia. e', 'China. j', 'Taiwan.\\nA', 'Australia.\\nA', 'Argentina.\\nF', 'Australia. y', 'Singapore.\\nL', 'China. b', 'Australia. a', 'Israel. E', 'Romania.\\nA', 'Singapore. E', 'Italy. v', 'Austria.\\nF', 'China. m', 'Chile.\\nA', 'China. 4', 'Taiwan.\\nL', 'Russia.\\nF', 'Italy. c', 'China. y', 'Italy. m', 'India.\\nF', 'Pakistan. E', 'France.\\nF', 'Denmark. h', 'Germany.\\nL', 'China. t', 'Italy. a', 'Pakistan.\\nF', 'Spain.\\nF', 'Chile.\\nF', 'China.\\nL', 'China. d', 'Germany.\\nA', 'Mexico. c', 'China. h', 'Colombia.\\nF', 'China. z', 'China. r', 'Australia. A', 'Mexico. o', 'Belgium.\\nF', 'Thailand.\\nL', 'Australia. c', 'Thailand.\\nF', 'Korea.\\nL', 'Australia. E', 'Russia. a', 'Israel. a', 'China. s', 'Russia. p', 'Australia. z', 'Australia.\\nF', 'Taiwan. E', 'Colombia.\\nL', 'Thailand.\\nA', 'Ukraine.\\nF', 'Australia. s', 'Singapore.\\nF', 'Germany.\\nF', 'China. c', 'China. n', 'China. p', 'Tunisia.\\nF', 'Korea. E', 'Colombia.\\nA', 'India. E', 'Mexico. a', 'Australia.\\nL', 'Israel. y']\n",
      "['', 'Belgium.\\n', 'India.\\n', 'France.\\n', 'China.\\n', 'Pakistan.\\n', 'Norway.\\n', 'Colombia.\\n', 'Austria.\\n', 'Ireland.\\n', 'Hungary.\\n', 'Poland.\\n', 'Ukraine.\\n', 'Slovenia.\\n', 'Russia.\\n', 'Greece.\\n', 'Algeria.\\n', 'Switzerland.\\n', 'Italy.\\n', 'Malaysia.\\n', 'Portugal.\\n', 'Chile.\\n', 'Singapore.\\n', 'Uruguay.\\n', 'Netherlands.\\n', 'Australia.\\n', 'Taiwan.\\n', 'Venezuela.\\n', 'Denmark.\\n', 'Philippines.\\n', 'Finland.\\n', 'Mexico.\\n', 'Israel.\\n', 'Argentina.\\n', 'Brazil.\\n', 'Germany.\\n', 'Sweden.\\n', 'Canada.\\n', 'Korea.\\n', 'Turkey.\\n', 'Thailand.\\n', 'Romania.\\n', 'Egypt.\\n', 'Japan.\\n', 'Tunisia.\\n', 'Spain.\\n']\n",
      "['', 'China.\\n']\n",
      "['', 'Australia.', 'China.', 'Colombia.', 'USA.', 'Brazil.', 'Argentina.', 'Italy.', 'Africa.', 'Switzerland.', 'Germany.']\n",
      "['', 'South Africa.\\n', 'Hong Kong.\\n', 'Czech Republic.\\n', 'United Kingdom.\\n', 'The Netherlands.\\n', 'Saudi Arabia.\\n', 'Costa Rica.\\n', 'New Zealand.\\n']\n",
      "['USA']\n",
      "['', 'USA.\\n']\n"
     ]
    }
   ],
   "source": [
    "unique_texto1 = list(set(texto3))\n",
    "\n",
    "unique_texto2 = list(set(texto4))\n",
    "\n",
    "unique_texto3 = list(set(texto5))\n",
    "\n",
    "unique_texto4 = list(set(texto6))\n",
    "\n",
    "unique_texto5 = list(set(texto7))\n",
    "\n",
    "unique_texto7 = list(set(texto9))\n",
    "\n",
    "print (unique_texto1)\n",
    "\n",
    "print (unique_texto2)\n",
    "\n",
    "print (unique_texto3)\n",
    "\n",
    "print (unique_texto4)\n",
    "\n",
    "print (unique_texto5)\n",
    "\n",
    "print (unique_texto6)\n",
    "\n",
    "print (unique_texto7)\n"
   ]
  },
  {
   "cell_type": "code",
   "execution_count": 242,
   "id": "f1a270b5",
   "metadata": {},
   "outputs": [
    {
     "name": "stdout",
     "output_type": "stream",
     "text": [
      "['Russia.\\nA', 'Korea.\\nF', 'Australia. v', 'China. l', 'Australia. l', 'Mexico.\\nF', 'Australia. m', 'Mexico.\\nL', 'India. d', 'Colombia. c', 'Australia. r', 'China. x', 'Hungary.\\nL', 'Australia. i', 'Russia.\\nL', 'Switzerland.\\nF', 'France. e', 'Taiwan.\\nF', 'China. E', 'Australia. g', 'Mexico. h', 'China.\\nF', 'Chile.\\nL', 'China.\\nA', 'Australia. n', 'Australia. d', 'Colombia. s', 'Tunisia.\\nL', 'Thailand. p', 'Romania.\\nL', 'Mexico. r', 'Australia. k', 'Chile. p', 'Mexico. e', 'Uruguay.\\nL', 'China. f', 'Australia. M', 'Australia. p', 'Mexico. E', 'Australia. j', 'Germany. E', 'Australia. t', 'Mexico. j', 'China. w', 'Australia. N', 'Australia. b', 'Romania.\\nF', 'Australia. e', 'China. j', 'Taiwan.\\nA', 'Australia.\\nA', 'Argentina.\\nF', 'Australia. y', 'Singapore.\\nL', 'China. b', 'Australia. a', 'Israel. E', 'Romania.\\nA', 'Singapore. E', 'Italy. v', 'Austria.\\nF', 'China. m', 'Chile.\\nA', 'China. 4', 'Taiwan.\\nL', 'Russia.\\nF', 'Italy. c', 'China. y', 'Italy. m', 'India.\\nF', 'Pakistan. E', 'France.\\nF', 'Denmark. h', 'Germany.\\nL', 'China. t', 'Italy. a', 'Pakistan.\\nF', 'Spain.\\nF', 'Chile.\\nF', 'China.\\nL', 'China. d', 'Germany.\\nA', 'Mexico. c', 'China. h', 'Colombia.\\nF', 'China. z', 'China. r', 'Australia. A', 'Mexico. o', 'Belgium.\\nF', 'Thailand.\\nL', 'Australia. c', 'Thailand.\\nF', 'Korea.\\nL', 'Australia. E', 'Russia. a', 'Israel. a', 'China. s', 'Russia. p', 'Australia. z', 'Australia.\\nF', 'Taiwan. E', 'Colombia.\\nL', 'Thailand.\\nA', 'Ukraine.\\nF', 'Australia. s', 'Singapore.\\nF', 'Germany.\\nF', 'China. c', 'China. n', 'China. p', 'Tunisia.\\nF', 'Korea. E', 'Colombia.\\nA', 'India. E', 'Mexico. a', 'Australia.\\nL', 'Israel. y']\n",
      "['Belgium.\\n', 'India.\\n', 'France.\\n', 'China.\\n', 'Pakistan.\\n', 'Norway.\\n', 'Colombia.\\n', 'Austria.\\n', 'Ireland.\\n', 'Hungary.\\n', 'Poland.\\n', 'Ukraine.\\n', 'Slovenia.\\n', 'Russia.\\n', 'Greece.\\n', 'Algeria.\\n', 'Switzerland.\\n', 'Italy.\\n', 'Malaysia.\\n', 'Portugal.\\n', 'Chile.\\n', 'Singapore.\\n', 'Uruguay.\\n', 'Netherlands.\\n', 'Australia.\\n', 'Taiwan.\\n', 'Venezuela.\\n', 'Denmark.\\n', 'Philippines.\\n', 'Finland.\\n', 'Mexico.\\n', 'Israel.\\n', 'Argentina.\\n', 'Brazil.\\n', 'Germany.\\n', 'Sweden.\\n', 'Canada.\\n', 'Korea.\\n', 'Turkey.\\n', 'Thailand.\\n', 'Romania.\\n', 'Egypt.\\n', 'Japan.\\n', 'Tunisia.\\n', 'Spain.\\n']\n",
      "['China.\\n']\n",
      "['Australia.', 'China.', 'Colombia.', 'USA.', 'Brazil.', 'Argentina.', 'Italy.', 'Africa.', 'Switzerland.', 'Germany.']\n",
      "['South Africa.\\n', 'Hong Kong.\\n', 'Czech Republic.\\n', 'United Kingdom.\\n', 'The Netherlands.\\n', 'Saudi Arabia.\\n', 'Costa Rica.\\n', 'New Zealand.\\n']\n",
      "['USA.\\n']\n"
     ]
    }
   ],
   "source": [
    "unique_texto1.pop(0)\n",
    "unique_texto2.pop(0)\n",
    "unique_texto3.pop(0)\n",
    "unique_texto4.pop(0)\n",
    "unique_texto5.pop(0)\n",
    "unique_texto7.pop(0)\n",
    "\n",
    "print(unique_texto1)\n",
    "print(unique_texto2)\n",
    "print(unique_texto3)\n",
    "print(unique_texto4)\n",
    "print(unique_texto5)\n",
    "print(unique_texto7)"
   ]
  },
  {
   "cell_type": "code",
   "execution_count": 243,
   "id": "9ab8d1bd",
   "metadata": {},
   "outputs": [
    {
     "name": "stdout",
     "output_type": "stream",
     "text": [
      "['Hungary', 'Argentina', 'Chile', 'Taiwan', 'Romania', 'Mexico', 'India', 'Tunisia', 'Denmark', 'Germany', 'Belgium', 'Singapore', 'Colombia', 'Australia', 'Uruguay', 'Israel', 'Switzerland', 'Austria', 'Spain', 'Italy', 'Ukraine', 'Thailand', 'Korea', 'Pakistan', 'France', 'Russia', 'China']\n",
      "['', 'Hungary', 'Argentina', 'Chile', 'Norway', 'Greece', 'Taiwan', 'Japan', 'Algeria', 'Romania', 'Mexico', 'Turkey', 'India', 'Tunisia', 'Denmark', 'Slovenia', 'Venezuela', 'Sweden', 'Belgium', 'Germany', 'Malaysia', 'Singapore', 'Colombia', 'Australia', 'Uruguay', 'Israel', 'Portugal', 'Ireland', 'Switzerland', 'Austria', 'Brazil', 'Spain', 'Italy', 'Ukraine', 'Thailand', 'Poland', 'Pakistan', 'Korea', 'Canada', 'France', 'Philippines', 'Egypt', 'Finland', 'Netherlands', 'Russia', 'China']\n",
      "['', 'China']\n",
      "['', 'Switzerland', 'USA', 'Argentina', 'Brazil', 'Germany', 'Italy', 'Colombia', 'Australia', 'Africa', 'China']\n"
     ]
    }
   ],
   "source": [
    "sincoma1 = \"\".join([str(_) for _ in unique_texto1])\n",
    "sincoma2 = \"\".join([str(_) for _ in unique_texto2])\n",
    "sincoma3 = \"\".join([str(_) for _ in unique_texto3])\n",
    "sincoma4 = \"\".join([str(_) for _ in unique_texto4])\n",
    "\n",
    "texto_unico1_1 = re.findall(r'([A-Z]{1}[a-z]{1}\\w*)', sincoma1)\n",
    "texto_unico1_2 = re.findall(r'\\w*', sincoma2)\n",
    "texto_unico1_3 = re.findall(r'\\w*', sincoma3)\n",
    "texto_unico1_4 = re.findall(r'\\w*', sincoma4)\n",
    "\n",
    "\n",
    "texto_unico1 = list(set(texto_unico1_1))\n",
    "texto_unico2 = list(set(texto_unico1_2))\n",
    "texto_unico3 = list(set(texto_unico1_3))\n",
    "texto_unico4 = list(set(texto_unico1_4))\n",
    "\n",
    "\n",
    "print (texto_unico1)\n",
    "print (texto_unico2)\n",
    "print (texto_unico3)\n",
    "print (texto_unico4)\n",
    "\n"
   ]
  },
  {
   "cell_type": "code",
   "execution_count": 244,
   "id": "f6422baa-c77c-4d11-ad9a-279ebb9975eb",
   "metadata": {},
   "outputs": [
    {
     "name": "stdout",
     "output_type": "stream",
     "text": [
      "South Africa.\n",
      "Hong Kong.\n",
      "Czech Republic.\n",
      "United Kingdom.\n",
      "The Netherlands.\n",
      "Saudi Arabia.\n",
      "Costa Rica.\n",
      "New Zealand.\n",
      "\n",
      "South Africa, Hong Kong, Czech Republic, United Kingdom, The Netherlands, Saudi Arabia, Costa Rica, New Zealand, \n",
      "['South Africa', 'Hong Kong', 'Czech Republic', 'United Kingdom', 'Saudi Arabia', 'Costa Rica']\n",
      "['South Africa', 'Hong Kong', 'Czech Republic', 'United Kingdom', 'Saudi Arabia', 'Costa Rica']\n"
     ]
    }
   ],
   "source": [
    "sincoma5 = \"\".join([str(_) for _ in unique_texto5])\n",
    "print (sincoma5)\n",
    "textosub1_5 = re.sub(r'\\.\\n', ', ', sincoma5)\n",
    "print (textosub1_5)\n",
    "texto_unico1_5 = re.findall(r'([A-Z]{1}\\w{3,5}\\s\\w*)', textosub1_5)\n",
    "print (texto_unico1_5)\n",
    "texto_unico5 = texto_unico1_5\n",
    "\n",
    "print (texto_unico5)\n"
   ]
  },
  {
   "cell_type": "code",
   "execution_count": 245,
   "id": "35e4b36d-a2a9-4e7a-a159-b668c126d4d6",
   "metadata": {},
   "outputs": [
    {
     "name": "stdout",
     "output_type": "stream",
     "text": [
      "['USA']\n",
      "['', 'USA']\n"
     ]
    }
   ],
   "source": [
    "texto8_1 = \"\".join([str(_) for _ in texto8])\n",
    "\n",
    "texto8_2 = re.findall(r'USA', texto8_1)\n",
    "\n",
    "texto_unico6 = list(set(texto8_2))\n",
    "\n",
    "print(texto_unico6)\n",
    "\n",
    "sincoma7 = \"\".join([str(_) for _ in unique_texto7])\n",
    "\n",
    "texto_unico1_7 = re.findall(r'\\w*', sincoma7)\n",
    "\n",
    "texto_unico7 = list(set(texto_unico1_7))\n",
    "\n",
    "print (texto_unico7)"
   ]
  },
  {
   "cell_type": "code",
   "execution_count": 246,
   "id": "9b9ec5e4",
   "metadata": {},
   "outputs": [
    {
     "name": "stdout",
     "output_type": "stream",
     "text": [
      "['Argentina', 'Chile', 'Taiwan', 'Romania', 'Mexico', 'India', 'Tunisia', 'Denmark', 'Germany', 'Belgium', 'Singapore', 'Colombia', 'Australia', 'Uruguay', 'Israel', 'Switzerland', 'Austria', 'Spain', 'Italy', 'Ukraine', 'Thailand', 'Korea', 'Pakistan', 'France', 'Russia', 'China']\n",
      "['Hungary', 'Argentina', 'Chile', 'Norway', 'Greece', 'Taiwan', 'Japan', 'Algeria', 'Romania', 'Mexico', 'Turkey', 'India', 'Tunisia', 'Denmark', 'Slovenia', 'Venezuela', 'Sweden', 'Belgium', 'Germany', 'Malaysia', 'Singapore', 'Colombia', 'Australia', 'Uruguay', 'Israel', 'Portugal', 'Ireland', 'Switzerland', 'Austria', 'Brazil', 'Spain', 'Italy', 'Ukraine', 'Thailand', 'Poland', 'Pakistan', 'Korea', 'Canada', 'France', 'Philippines', 'Egypt', 'Finland', 'Netherlands', 'Russia', 'China']\n",
      "['China']\n",
      "['Switzerland', 'USA', 'Argentina', 'Brazil', 'Germany', 'Italy', 'Colombia', 'Australia', 'Africa', 'China']\n",
      "['USA']\n"
     ]
    }
   ],
   "source": [
    "texto_unico1.pop(0)\n",
    "texto_unico2.pop(0)\n",
    "texto_unico3.pop(0)\n",
    "texto_unico4.pop(0)\n",
    "texto_unico7.pop(0)\n",
    "\n",
    "print(texto_unico1)\n",
    "print(texto_unico2)\n",
    "print(texto_unico3)\n",
    "print(texto_unico4)\n",
    "print(texto_unico7)\n"
   ]
  },
  {
   "cell_type": "code",
   "execution_count": 247,
   "id": "9500f18a-0a9e-411c-8387-2d812367036e",
   "metadata": {},
   "outputs": [],
   "source": [
    "texto_unico1.extend(texto_unico2)"
   ]
  },
  {
   "cell_type": "code",
   "execution_count": 248,
   "id": "6d391d1a-3196-4cbe-8bbb-2853bf50cb20",
   "metadata": {},
   "outputs": [],
   "source": [
    "texto_unico1.extend(texto_unico3)"
   ]
  },
  {
   "cell_type": "code",
   "execution_count": 249,
   "id": "0d2b9448-703f-4b22-9005-aa90bc8fb57b",
   "metadata": {},
   "outputs": [],
   "source": [
    "texto_unico1.extend(texto_unico4)"
   ]
  },
  {
   "cell_type": "code",
   "execution_count": 250,
   "id": "f536d679-0e38-42a0-8d08-1cbe0db4d9e5",
   "metadata": {},
   "outputs": [],
   "source": [
    "texto_unico1.extend(texto_unico5)"
   ]
  },
  {
   "cell_type": "code",
   "execution_count": 251,
   "id": "6fdb6642-31b5-47d1-bda0-56f1f309cf15",
   "metadata": {},
   "outputs": [],
   "source": [
    "texto_unico1.extend(texto_unico6)"
   ]
  },
  {
   "cell_type": "code",
   "execution_count": 252,
   "id": "2220f009-e91f-41a4-8893-eb79f116238b",
   "metadata": {},
   "outputs": [
    {
     "name": "stdout",
     "output_type": "stream",
     "text": [
      "['Argentina', 'Chile', 'Taiwan', 'Romania', 'Mexico', 'India', 'Tunisia', 'Denmark', 'Germany', 'Belgium', 'Singapore', 'Colombia', 'Australia', 'Uruguay', 'Israel', 'Switzerland', 'Austria', 'Spain', 'Italy', 'Ukraine', 'Thailand', 'Korea', 'Pakistan', 'France', 'Russia', 'China', 'Hungary', 'Argentina', 'Chile', 'Norway', 'Greece', 'Taiwan', 'Japan', 'Algeria', 'Romania', 'Mexico', 'Turkey', 'India', 'Tunisia', 'Denmark', 'Slovenia', 'Venezuela', 'Sweden', 'Belgium', 'Germany', 'Malaysia', 'Singapore', 'Colombia', 'Australia', 'Uruguay', 'Israel', 'Portugal', 'Ireland', 'Switzerland', 'Austria', 'Brazil', 'Spain', 'Italy', 'Ukraine', 'Thailand', 'Poland', 'Pakistan', 'Korea', 'Canada', 'France', 'Philippines', 'Egypt', 'Finland', 'Netherlands', 'Russia', 'China', 'China', 'Switzerland', 'USA', 'Argentina', 'Brazil', 'Germany', 'Italy', 'Colombia', 'Australia', 'Africa', 'China', 'South Africa', 'Hong Kong', 'Czech Republic', 'United Kingdom', 'Saudi Arabia', 'Costa Rica', 'USA', 'USA']\n"
     ]
    }
   ],
   "source": [
    "texto_unico1.extend(texto_unico7)\n",
    "print(texto_unico1)"
   ]
  },
  {
   "cell_type": "code",
   "execution_count": 253,
   "id": "243db30a-041e-4ef5-8246-c3edbe5f1b17",
   "metadata": {},
   "outputs": [
    {
     "data": {
      "text/plain": [
       "53"
      ]
     },
     "execution_count": 253,
     "metadata": {},
     "output_type": "execute_result"
    }
   ],
   "source": [
    "paises = list(set(texto_unico1))\n",
    "\n",
    "len(paises)"
   ]
  },
  {
   "cell_type": "code",
   "execution_count": 254,
   "id": "31be85ef",
   "metadata": {},
   "outputs": [],
   "source": [
    "paises.sort()\n"
   ]
  },
  {
   "cell_type": "code",
   "execution_count": 255,
   "id": "58345421",
   "metadata": {},
   "outputs": [
    {
     "data": {
      "text/plain": [
       "['Africa',\n",
       " 'Algeria',\n",
       " 'Argentina',\n",
       " 'Australia',\n",
       " 'Austria',\n",
       " 'Belgium',\n",
       " 'Brazil',\n",
       " 'Canada',\n",
       " 'Chile',\n",
       " 'China',\n",
       " 'Colombia',\n",
       " 'Costa Rica',\n",
       " 'Czech Republic',\n",
       " 'Denmark',\n",
       " 'Egypt',\n",
       " 'Finland',\n",
       " 'France',\n",
       " 'Germany',\n",
       " 'Greece',\n",
       " 'Hong Kong',\n",
       " 'Hungary',\n",
       " 'India',\n",
       " 'Ireland',\n",
       " 'Israel',\n",
       " 'Italy',\n",
       " 'Japan',\n",
       " 'Korea',\n",
       " 'Malaysia',\n",
       " 'Mexico',\n",
       " 'Netherlands',\n",
       " 'Norway',\n",
       " 'Pakistan',\n",
       " 'Philippines',\n",
       " 'Poland',\n",
       " 'Portugal',\n",
       " 'Romania',\n",
       " 'Russia',\n",
       " 'Saudi Arabia',\n",
       " 'Singapore',\n",
       " 'Slovenia',\n",
       " 'South Africa',\n",
       " 'Spain',\n",
       " 'Sweden',\n",
       " 'Switzerland',\n",
       " 'Taiwan',\n",
       " 'Thailand',\n",
       " 'Tunisia',\n",
       " 'Turkey',\n",
       " 'USA',\n",
       " 'Ukraine',\n",
       " 'United Kingdom',\n",
       " 'Uruguay',\n",
       " 'Venezuela']"
      ]
     },
     "execution_count": 255,
     "metadata": {},
     "output_type": "execute_result"
    }
   ],
   "source": [
    "paises[:53]"
   ]
  },
  {
   "cell_type": "code",
   "execution_count": 256,
   "id": "92a59f71-eeee-4188-998f-6146204663bc",
   "metadata": {},
   "outputs": [],
   "source": [
    "import csv\n",
    "coordenadas = {}\n",
    "with open('coordenadas.csv') as file:\n",
    "    csvr = csv.DictReader(file)\n",
    "    for row in csvr:\n",
    "        coordenadas[row['name']] = [(row['latitude']),(row['longitude'])]\n"
   ]
  },
  {
   "cell_type": "code",
   "execution_count": 257,
   "id": "7fa044ce-e3c2-4f73-b477-03e9d166d361",
   "metadata": {},
   "outputs": [],
   "source": [
    "pais_name = []\n",
    "pais_long = []\n",
    "pais_lat = []\n",
    "pais_count = []"
   ]
  },
  {
   "cell_type": "code",
   "execution_count": 258,
   "id": "3d154f60-6125-4932-88b9-429d69065f2b",
   "metadata": {},
   "outputs": [],
   "source": [
    "texto = texto3\n",
    "texto_a = texto4\n",
    "texto_b = texto5\n",
    "texto_c = texto6\n",
    "texto_d = texto7\n",
    "texto_e = texto8_2\n",
    "texto_f = texto9\n",
    "\n",
    "texto.extend(texto_a)\n",
    "texto.extend(texto_b)\n",
    "texto.extend(texto_c)\n",
    "texto.extend(texto_e)\n",
    "texto.extend(texto_f)"
   ]
  },
  {
   "cell_type": "code",
   "execution_count": 259,
   "id": "812484b9-f57f-4320-bd62-50ee3381ef6e",
   "metadata": {},
   "outputs": [
    {
     "data": {
      "text/plain": [
       "15546"
      ]
     },
     "execution_count": 259,
     "metadata": {},
     "output_type": "execute_result"
    }
   ],
   "source": [
    "paises_rep = \"\".join([str(_) for _ in texto])\n",
    "\n",
    "paises_repetidos = re.findall(r'\\w*', paises_rep)\n",
    "\n",
    "len(paises_repetidos)"
   ]
  },
  {
   "cell_type": "code",
   "execution_count": 260,
   "id": "8f40bf26-74e8-401f-bccf-19a74958ce8e",
   "metadata": {},
   "outputs": [
    {
     "data": {
      "text/plain": [
       "15705"
      ]
     },
     "execution_count": 260,
     "metadata": {},
     "output_type": "execute_result"
    }
   ],
   "source": [
    "texto_d1 = \"\".join([str(_) for _ in texto_d])\n",
    "\n",
    "plus = re.findall(r'(\\w{3,5}\\s\\w*)', texto_d1)\n",
    "\n",
    "paises_repetidos.extend(plus)\n",
    "\n",
    "len(paises_repetidos)"
   ]
  },
  {
   "cell_type": "code",
   "execution_count": 261,
   "id": "d200f5d5-5f82-427a-8eb8-ad4858772d10",
   "metadata": {},
   "outputs": [],
   "source": [
    "for p in paises:\n",
    "    if p in coordenadas.keys():\n",
    "        pais_name.append(p)\n",
    "        pais_lat.append(float(coordenadas[p][0]))\n",
    "        pais_long.append(float(coordenadas[p][1]))\n",
    "        pais_count.append(paises_repetidos.count(p))\n"
   ]
  },
  {
   "cell_type": "code",
   "execution_count": 262,
   "id": "eda68200-cae2-4c25-a188-87cf90f7f58e",
   "metadata": {},
   "outputs": [
    {
     "name": "stdout",
     "output_type": "stream",
     "text": [
      "['Algeria', 'Argentina', 'Australia', 'Austria', 'Belgium', 'Brazil', 'Canada', 'Chile', 'China', 'Colombia', 'Costa Rica', 'Czech Republic', 'Denmark', 'Egypt', 'Finland', 'France', 'Germany', 'Greece', 'Hong Kong', 'Hungary', 'India', 'Ireland', 'Israel', 'Italy', 'Japan', 'Korea', 'Malaysia', 'Mexico', 'Norway', 'Pakistan', 'Philippines', 'Poland', 'Portugal', 'Romania', 'Russia', 'Saudi Arabia', 'Singapore', 'Slovenia', 'South Africa', 'Spain', 'Sweden', 'Switzerland', 'Taiwan', 'Thailand', 'Tunisia', 'Turkey', 'USA', 'Ukraine', 'United Kingdom', 'Uruguay', 'Venezuela']\n",
      "[28.033886, -38.416097, -25.274398, 47.516231, 50.503887, -14.235004, 56.130366, -35.675147, 35.86166, 4.570868, 9.748917, 49.817492, 56.26392, 26.820553, 61.92411, 46.227638, 51.165691, 39.074208, 22.396428, 47.162494, 20.593684, 53.41291, 31.046051, 41.87194, 36.204824, 35.907757, 4.210484, 23.634501, 60.472024, 30.375321, 12.879721, 51.919438, 39.399872, 45.943161, 61.52401, 23.885942, 1.352083, 46.151241, -30.559482, 40.463667, 60.128161, 46.818188, 23.69781, 15.870032, 33.886917, 38.963745, 37.09024, 48.379433, 55.378051, -32.522779, 6.42375]\n",
      "[1.659626, -63.616672, 133.775136, 14.550072, 4.469936, -51.92528, -106.346771, -71.542969, 104.195397, -74.297333, -83.753428, 15.472962, 9.501785, 30.802498, 25.748151, 2.213749, 10.451526, 21.824312, 114.109497, 19.503304, 78.96288, -8.24389, 34.851612, 12.56738, 138.252924, 127.766922, 101.975766, -102.552784, 8.468946, 69.345116, 121.774017, 19.145136, -8.224454, 24.96676, 105.318756, 45.079162, 103.819836, 14.995463, 22.937506, -3.74922, 18.643501, 8.227512, 120.960515, 100.992541, 9.537499, 35.243322, -95.712891, 31.16558, -3.435973, -55.765835, -66.58973]\n",
      "[1, 62, 509, 11, 38, 911, 26, 28, 764, 22, 2, 25, 58, 3, 3, 119, 112, 4, 1, 7, 24, 28, 14, 102, 52, 28, 5, 93, 9, 29, 11, 2, 2, 12, 139, 5, 3, 4, 1, 30, 6, 64, 40, 14, 4, 32, 611, 3, 0, 2, 3]\n"
     ]
    }
   ],
   "source": [
    "print(pais_name)\n",
    "print(pais_lat)\n",
    "print(pais_long)\n",
    "print(pais_count)"
   ]
  },
  {
   "cell_type": "code",
   "execution_count": 266,
   "id": "c5cef3a3-57d4-419a-85ff-bfe1476dcc60",
   "metadata": {},
   "outputs": [
    {
     "data": {
      "image/png": "[encoded data removed]",
      "text/plain": [
       "<Figure size 1296x864 with 2 Axes>"
      ]
     },
     "metadata": {
      "needs_background": "light"
     },
     "output_type": "display_data"
    }
   ],
   "source": [
    "import matplotlib.pyplot as plt\n",
    "%matplotlib inline\n",
    "plt.scatter(pais_long, pais_lat, s = pais_count, c= pais_count)\n",
    "plt.colorbar()\n",
    "plt.xlim(-110,145)\n",
    "plt.ylim(-70, 70)\n",
    "#add a few cities for reference (optional)\n",
    "ard = dict(arrowstyle=\"->\")\n",
    "plt.annotate('USA', xy = (-95.712891, 37.09024), \n",
    "               xytext = (-87.183406, 30.831239), arrowprops = ard)\n",
    "plt.annotate('Rusia', xy = (105.318756, 61.52401), \n",
    "               xytext = (100.318756, 50.016521), arrowprops= ard)\n",
    "plt.annotate('Brazil', xy = (-51.92528, -14.235004), \n",
    "               xytext = (-30.318756, -05.016521), arrowprops= ard)\n",
    "plt.annotate('Australia', xy = (133.775136, -25.274398), \n",
    "               xytext = (120.921327, -15.759275), arrowprops= ard)\n",
    "plt.annotate('Guatemala', xy = (-90.230759, 15.783471), \n",
    "               xytext = (-90.552784, 23.634501), arrowprops= ard)\n",
    "plt.annotate('España', xy = (-3.74922, 40.463667), \n",
    "               xytext = (-30.74922, 40.463667), arrowprops= ard)\n",
    "plt.annotate('China', xy = (104.195397, 35.86166), \n",
    "               xytext = (110.510093, 40.339852), arrowprops= ard)\n",
    "\n",
    "params = plt.gcf()\n",
    "plSize = params.get_size_inches()\n",
    "params.set_size_inches( (plSize[0] * 3, plSize[1] * 3) )\n",
    "plt.show()"
   ]
  },
  {
   "cell_type": "code",
   "execution_count": 264,
   "id": "eeb8e7e7-f2c7-4776-bba9-5f595e6b8369",
   "metadata": {},
   "outputs": [
    {
     "name": "stdout",
     "output_type": "stream",
     "text": [
      "\u001b[H\u001b[2J"
     ]
    }
   ],
   "source": [
    "clear"
   ]
  },
  {
   "cell_type": "code",
   "execution_count": null,
   "id": "6ac4df99-540f-4e8e-91d5-fd9e5de26ea7",
   "metadata": {},
   "outputs": [],
   "source": []
  }
 ],
 "metadata": {
  "kernelspec": {
   "display_name": "Python 3 (ipykernel)",
   "language": "python",
   "name": "python3"
  },
  "language_info": {
   "codemirror_mode": {
    "name": "ipython",
    "version": 3
   },
   "file_extension": ".py",
   "mimetype": "text/x-python",
   "name": "python",
   "nbconvert_exporter": "python",
   "pygments_lexer": "ipython3",
   "version": "3.9.7"
  }
 },
 "nbformat": 4,
 "nbformat_minor": 5
}
