{
 "cells": [
  {
   "cell_type": "markdown",
   "id": "364a93b2",
   "metadata": {},
   "source": [
    "<img src=\"Logo-ikiam-.png\" width=300 height=240 />\n",
    "\n",
    "<h1><center>TAREA 2 - Parcial 2</center></h1>\n",
    "\n",
    "<h2><center>GBI6-2021II: BIOINFORMÁTICA</center></h2>\n",
    "\n",
    "**<h3><center>Freire Torres, Camila Micaela</center></h3>**\n",
    "\n",
    "**<h4><center>Fecha de entrega: 16-02-2022</center></h4>**"
   ]
  },
  {
   "cell_type": "markdown",
   "id": "7eef1b79",
   "metadata": {},
   "source": [
    "## <font color='brown'>Ejercicio 1</font>\n",
    "\n",
    "Basado en las sesiones de **Visualización de datos** y **Expresiones resulares**. Realice una adaptación de la solución del MAP OF SCIENCE. Se requiere dos adaptaciones para resolver esta actividad:\n",
    "\n",
    "1. Buscar bibliografía de un tema de interés propio en la Página Web de PubMed,\n",
    "2. Realizar el minado de autores por país (en el ejemplo se encuentra realziado por las ciudades de USA). \n",
    "3. Para asignar las ubicación geográfica de los centroides de cada país (latitud y longitud), utilice la tabla  **Ubicación Geográfica de Países - Google Developer**. Así como en la solución de referencia se señalan varias ciudades seleccionadas de USA. \n",
    "4. En su resolución señale/resalte a los siguientes países: USA, UK, Brazil, China, Australia, Norway.  \n",
    "\n",
    "*Cargue su cuaderno de Jupyter en GitHub, asegurandose de lo siguiente:*\n",
    "\n",
    "- En el documento se puede ver con claridad el Mapa de Ciencia de su tema de interés.\n",
    "- La figura tiene etiquetas adecuadas en los ejes de la visualización. \n",
    "- Se tiene al menos tres controles de la versión (3 commit con mensajes adecuados sobre la versión)"
   ]
  },
  {
   "cell_type": "code",
   "execution_count": 206,
   "id": "8e90d4d2",
   "metadata": {},
   "outputs": [],
   "source": [
    "# Primero se activa el paquete 're' y se abre el archivo descargado con el comando with open, donde\n",
    "# with se usa para facilitar la apertura y cierre de archivos en python\n",
    "\n",
    "import re\n",
    "\n",
    "with open('pubmed-heteropoda-set.txt') as f:\n",
    "    texto1 = f.read()\n",
    "    #print (texto1)"
   ]
  },
  {
   "cell_type": "code",
   "execution_count": 207,
   "id": "555679d4",
   "metadata": {},
   "outputs": [],
   "source": [
    "texto2 = re.sub(r'\\n\\s{6}', ' ', texto1)\n",
    "\n",
    "#print (texto2)"
   ]
  },
  {
   "cell_type": "code",
   "execution_count": 208,
   "id": "6a0332f9",
   "metadata": {},
   "outputs": [
    {
     "name": "stdout",
     "output_type": "stream",
     "text": [
      "['', 'China.', '', 'China.', '', 'China.', '', 'China.', '', 'China.', '', 'China.', '', 'China.', '', 'China.', '', 'China.', '', 'China.', '', 'China.', '', 'China.', '', 'China.', '', 'China.', '', 'China.', '', 'China.', '', 'China.', '', '', '', '', '', '', '', '', '', '', '', '', '', 'USA.', '', '', '', 'USA.', '', '', '', '', '', '', '', '', 'Australia.']\n",
      "['', 'China.\\n', '', 'China.\\n', '', 'China.\\n', '', 'China.\\n', '', 'China.\\n', '', 'China.\\n', '', '', '', 'China.\\n', '', 'China.\\n', '', 'China.\\n', '', 'China.\\n', '', 'China.\\n', '', 'China.\\n', '', 'China.\\n', '', 'China.\\n', '', '', '', '', '', '', '', '', '', '', '', '', '', '', 'USA.\\n', '', 'France.\\n', '', '', '', 'Canada.\\n', '', 'Canada.\\n', '', 'Canada.\\n', '', 'USA.\\n', '', '', 'Canada.\\n', '', 'Canada.\\n', '']\n"
     ]
    },
    {
     "data": {
      "text/plain": [
       "109"
      ]
     },
     "execution_count": 208,
     "metadata": {},
     "output_type": "execute_result"
    }
   ],
   "source": [
    "texto3 = re.findall(r'^AD |\\s\\d{4,7}\\,\\s(\\w*\\.)', texto2, flags=re.M)\n",
    "\n",
    "texto4 = re.findall(r'^AD |\\w*\\,\\s(\\w*\\.\\n)', texto2, flags=re.M)\n",
    "\n",
    "print (texto3)\n",
    "\n",
    "print (texto4)\n",
    "\n",
    "len(texto)\n",
    "            "
   ]
  },
  {
   "cell_type": "code",
   "execution_count": 209,
   "id": "917ee3dd",
   "metadata": {},
   "outputs": [
    {
     "name": "stdout",
     "output_type": "stream",
     "text": [
      "['', 'USA.', 'Australia.', 'China.']\n",
      "['', 'China.\\n', 'USA.\\n', 'France.\\n', 'Canada.\\n']\n"
     ]
    }
   ],
   "source": [
    "unique_texto1 = list(set(texto3))\n",
    "\n",
    "unique_texto2 = list(set(texto4))\n",
    "\n",
    "print (unique_texto1)\n",
    "\n",
    "print (unique_texto2)\n"
   ]
  },
  {
   "cell_type": "code",
   "execution_count": 210,
   "id": "f1a270b5",
   "metadata": {},
   "outputs": [
    {
     "name": "stdout",
     "output_type": "stream",
     "text": [
      "['USA.', 'Australia.', 'China.']\n",
      "['China.\\n', 'USA.\\n', 'France.\\n', 'Canada.\\n']\n"
     ]
    }
   ],
   "source": [
    "unique_texto1.pop(0)\n",
    "unique_texto2.pop(0)\n",
    "print(unique_texto1)\n",
    "print(unique_texto2)"
   ]
  },
  {
   "cell_type": "code",
   "execution_count": 211,
   "id": "9ab8d1bd",
   "metadata": {},
   "outputs": [
    {
     "name": "stdout",
     "output_type": "stream",
     "text": [
      "USA.Australia.China.\n",
      "China.\n",
      "USA.\n",
      "France.\n",
      "Canada.\n",
      "\n",
      "['USA', '', 'Australia', '', 'China', '', '']\n",
      "['China', '', '', 'USA', '', '', 'France', '', '', 'Canada', '', '', '']\n",
      "['', 'China', 'Australia', 'USA']\n",
      "['', 'Canada', 'USA', 'China', 'France']\n"
     ]
    }
   ],
   "source": [
    "sincoma1 = \"\".join([str(_) for _ in unique_texto1])\n",
    "sincoma2 = \"\".join([str(_) for _ in unique_texto2])\n",
    "\n",
    "print(sincoma1)\n",
    "print(sincoma2)\n",
    "\n",
    "texto_unico1_1 = re.findall(r'\\w*', sincoma1)\n",
    "texto_unico1_2 = re.findall(r'\\w*', sincoma2)\n",
    "\n",
    "print(texto_unico1_1)\n",
    "print(texto_unico1_2)\n",
    "\n",
    "texto_unico1 = list(set(texto_unico1_1))\n",
    "texto_unico2 = list(set(texto_unico1_2))\n",
    "\n",
    "print (texto_unico1)\n",
    "print (texto_unico2)\n"
   ]
  },
  {
   "cell_type": "code",
   "execution_count": 212,
   "id": "9b9ec5e4",
   "metadata": {},
   "outputs": [
    {
     "name": "stdout",
     "output_type": "stream",
     "text": [
      "['China', 'Australia', 'USA']\n",
      "['Canada', 'USA', 'China', 'France']\n"
     ]
    }
   ],
   "source": [
    "texto_unico1.pop(0)\n",
    "texto_unico2.pop(0)\n",
    "\n",
    "print(texto_unico1)\n",
    "print(texto_unico2)"
   ]
  },
  {
   "cell_type": "code",
   "execution_count": 213,
   "id": "9500f18a-0a9e-411c-8387-2d812367036e",
   "metadata": {},
   "outputs": [
    {
     "name": "stdout",
     "output_type": "stream",
     "text": [
      "['China', 'Australia', 'USA', 'Canada', 'USA', 'China', 'France']\n"
     ]
    }
   ],
   "source": [
    "texto_unico1.extend(texto_unico2)\n",
    "\n",
    "print(texto_unico1)"
   ]
  },
  {
   "cell_type": "code",
   "execution_count": 214,
   "id": "243db30a-041e-4ef5-8246-c3edbe5f1b17",
   "metadata": {},
   "outputs": [
    {
     "name": "stdout",
     "output_type": "stream",
     "text": [
      "['Canada', 'USA', 'China', 'France', 'Australia']\n"
     ]
    }
   ],
   "source": [
    "paises = list(set(texto_unico1))\n",
    "\n",
    "print(paises)"
   ]
  },
  {
   "cell_type": "code",
   "execution_count": 215,
   "id": "31be85ef",
   "metadata": {},
   "outputs": [],
   "source": [
    "paises.sort()\n"
   ]
  },
  {
   "cell_type": "code",
   "execution_count": 216,
   "id": "58345421",
   "metadata": {},
   "outputs": [
    {
     "data": {
      "text/plain": [
       "['Australia', 'Canada', 'China', 'France', 'USA']"
      ]
     },
     "execution_count": 216,
     "metadata": {},
     "output_type": "execute_result"
    }
   ],
   "source": [
    "paises[:5]"
   ]
  },
  {
   "cell_type": "code",
   "execution_count": 217,
   "id": "92a59f71-eeee-4188-998f-6146204663bc",
   "metadata": {},
   "outputs": [],
   "source": [
    "import csv\n",
    "coordenadas = {}\n",
    "with open('coordenadas.csv') as file:\n",
    "    csvr = csv.DictReader(file)\n",
    "    for row in csvr:\n",
    "        coordenadas[row['name']] = [(row['latitude']),(row['longitude'])]\n"
   ]
  },
  {
   "cell_type": "code",
   "execution_count": 218,
   "id": "7fa044ce-e3c2-4f73-b477-03e9d166d361",
   "metadata": {},
   "outputs": [],
   "source": [
    "pais_name = []\n",
    "pais_long = []\n",
    "pais_lat = []\n",
    "pais_count = []"
   ]
  },
  {
   "cell_type": "code",
   "execution_count": 219,
   "id": "3d154f60-6125-4932-88b9-429d69065f2b",
   "metadata": {},
   "outputs": [
    {
     "name": "stdout",
     "output_type": "stream",
     "text": [
      "['', 'China.', '', 'China.', '', 'China.', '', 'China.', '', 'China.', '', 'China.', '', 'China.', '', 'China.', '', 'China.', '', 'China.', '', 'China.', '', 'China.', '', 'China.', '', 'China.', '', 'China.', '', 'China.', '', 'China.', '', '', '', '', '', '', '', '', '', '', '', '', '', 'USA.', '', '', '', 'USA.', '', '', '', '', '', '', '', '', 'Australia.', '', 'China.\\n', '', 'China.\\n', '', 'China.\\n', '', 'China.\\n', '', 'China.\\n', '', 'China.\\n', '', '', '', 'China.\\n', '', 'China.\\n', '', 'China.\\n', '', 'China.\\n', '', 'China.\\n', '', 'China.\\n', '', 'China.\\n', '', 'China.\\n', '', '', '', '', '', '', '', '', '', '', '', '', '', '', 'USA.\\n', '', 'France.\\n', '', '', '', 'Canada.\\n', '', 'Canada.\\n', '', 'Canada.\\n', '', 'USA.\\n', '', '', 'Canada.\\n', '', 'Canada.\\n', '']\n",
      "China.China.China.China.China.China.China.China.China.China.China.China.China.China.China.China.China.USA.USA.Australia.China.\n",
      "China.\n",
      "China.\n",
      "China.\n",
      "China.\n",
      "China.\n",
      "China.\n",
      "China.\n",
      "China.\n",
      "China.\n",
      "China.\n",
      "China.\n",
      "China.\n",
      "China.\n",
      "USA.\n",
      "France.\n",
      "Canada.\n",
      "Canada.\n",
      "Canada.\n",
      "USA.\n",
      "Canada.\n",
      "Canada.\n",
      "\n",
      "['China', '', 'China', '', 'China', '', 'China', '', 'China', '', 'China', '', 'China', '', 'China', '', 'China', '', 'China', '', 'China', '', 'China', '', 'China', '', 'China', '', 'China', '', 'China', '', 'China', '', 'USA', '', 'USA', '', 'Australia', '', 'China', '', '', 'China', '', '', 'China', '', '', 'China', '', '', 'China', '', '', 'China', '', '', 'China', '', '', 'China', '', '', 'China', '', '', 'China', '', '', 'China', '', '', 'China', '', '', 'China', '', '', 'China', '', '', 'USA', '', '', 'France', '', '', 'Canada', '', '', 'Canada', '', '', 'Canada', '', '', 'USA', '', '', 'Canada', '', '', 'Canada', '', '', '']\n"
     ]
    }
   ],
   "source": [
    "texto = texto3\n",
    "texto_a = texto4\n",
    "texto.extend(texto_a)\n",
    "\n",
    "print(texto)\n",
    "\n",
    "paises_rep = \"\".join([str(_) for _ in texto])\n",
    "\n",
    "print(paises_rep)\n",
    "\n",
    "paises_repetidos = re.findall(r'\\w*', paises_rep)\n",
    "\n",
    "print(paises_repetidos)"
   ]
  },
  {
   "cell_type": "code",
   "execution_count": 220,
   "id": "d200f5d5-5f82-427a-8eb8-ad4858772d10",
   "metadata": {},
   "outputs": [],
   "source": [
    "for p in paises:\n",
    "    if p in coordenadas.keys():\n",
    "        pais_name.append(p)\n",
    "        pais_lat.append(float(coordenadas[p][0]))\n",
    "        pais_long.append(float(coordenadas[p][1]))\n",
    "        pais_count.append(paises_repetidos.count(p))\n"
   ]
  },
  {
   "cell_type": "code",
   "execution_count": 221,
   "id": "eda68200-cae2-4c25-a188-87cf90f7f58e",
   "metadata": {},
   "outputs": [
    {
     "name": "stdout",
     "output_type": "stream",
     "text": [
      "['Australia', 'Canada', 'China', 'France', 'USA']\n",
      "[-25.274398, 56.130366, 35.86166, 46.227638, 37.09024]\n",
      "[133.775136, -106.346771, 104.195397, 2.213749, -95.712891]\n",
      "[1, 5, 31, 1, 4]\n"
     ]
    }
   ],
   "source": [
    "print(pais_name)\n",
    "print(pais_lat)\n",
    "print(pais_long)\n",
    "print(pais_count)"
   ]
  },
  {
   "cell_type": "code",
   "execution_count": 240,
   "id": "c5cef3a3-57d4-419a-85ff-bfe1476dcc60",
   "metadata": {},
   "outputs": [
    {
     "data": {
      "image/png": "[encoded data removed]",
      "text/plain": [
       "<Figure size 1296x864 with 2 Axes>"
      ]
     },
     "metadata": {
      "needs_background": "light"
     },
     "output_type": "display_data"
    }
   ],
   "source": [
    "import matplotlib.pyplot as plt\n",
    "%matplotlib inline\n",
    "plt.scatter(pais_long, pais_lat, s = pais_count, c= pais_count)\n",
    "plt.colorbar()\n",
    "plt.xlim(-108,145)\n",
    "plt.ylim(-30, 60)\n",
    "#add a few cities for reference (optional)\n",
    "ard = dict(arrowstyle=\"->\")\n",
    "plt.annotate('Ecuador', xy = (-78.183406, -1.831239), \n",
    "               xytext = (-57.183406, -2.831239), arrowprops = ard)\n",
    "plt.annotate('Rusia', xy = (21.005859, 44.016521), \n",
    "               xytext = (21.005859, 50.016521), arrowprops= ard)\n",
    "plt.annotate('Papúa Nueva Guinea', xy = (143.95555, -6.314993), \n",
    "               xytext = (108.921327, -0.759275), arrowprops= ard)\n",
    "plt.annotate('Mexico', xy = (-102.552784, 23.634501), \n",
    "               xytext = (-90.552784, 23.634501), arrowprops= ard)\n",
    "plt.annotate('España', xy = (-3.74922, 40.463667), \n",
    "               xytext = (-30.74922, 40.463667), arrowprops= ard)\n",
    "plt.annotate('Corea Norte', xy = (127.510093, 40.339852), \n",
    "               xytext = (117.510093, 50.339852), arrowprops= ard)\n",
    "\n",
    "params = plt.gcf()\n",
    "plSize = params.get_size_inches()\n",
    "params.set_size_inches( (plSize[0] * 3, plSize[1] * 3) )\n",
    "plt.show()"
   ]
  },
  {
   "cell_type": "code",
   "execution_count": null,
   "id": "eeb8e7e7-f2c7-4776-bba9-5f595e6b8369",
   "metadata": {},
   "outputs": [],
   "source": []
  },
  {
   "cell_type": "code",
   "execution_count": null,
   "id": "5c31035b-5778-492a-8ac9-e88e4bc898d0",
   "metadata": {},
   "outputs": [],
   "source": []
  }
 ],
 "metadata": {
  "kernelspec": {
   "display_name": "Python 3 (ipykernel)",
   "language": "python",
   "name": "python3"
  },
  "language_info": {
   "codemirror_mode": {
    "name": "ipython",
    "version": 3
   },
   "file_extension": ".py",
   "mimetype": "text/x-python",
   "name": "python",
   "nbconvert_exporter": "python",
   "pygments_lexer": "ipython3",
   "version": "3.9.7"
  }
 },
 "nbformat": 4,
 "nbformat_minor": 5
}
